{
 "cells": [
  {
   "cell_type": "code",
   "execution_count": 2,
   "id": "e9931d91-1e16-4feb-a15e-ee0904279bd8",
   "metadata": {},
   "outputs": [
    {
     "name": "stdin",
     "output_type": "stream",
     "text": [
      "number :  1234\n"
     ]
    },
    {
     "data": {
      "text/plain": [
       "4"
      ]
     },
     "execution_count": 2,
     "metadata": {},
     "output_type": "execute_result"
    }
   ],
   "source": [
    "n = int(input('number : '))\n",
    "len_num = len(str(n))\n",
    "copy = n\n",
    "cnt = 0\n",
    "\n",
    "if(len_num>4):\n",
    "    print('enter valid no.')\n",
    "\n",
    "while (copy>0):\n",
    "    rem = copy%10\n",
    "    i"
   ]
  },
  {
   "cell_type": "code",
   "execution_count": 4,
   "id": "7188b72d-660e-402f-9f4a-1de0eedffee8",
   "metadata": {},
   "outputs": [
    {
     "data": {
      "text/plain": [
       "234"
      ]
     },
     "execution_count": 4,
     "metadata": {},
     "output_type": "execute_result"
    }
   ],
   "source": [
    "1234%1000"
   ]
  },
  {
   "cell_type": "code",
   "execution_count": 16,
   "id": "62860b16-6483-4b09-a978-93416012d018",
   "metadata": {},
   "outputs": [
    {
     "name": "stdin",
     "output_type": "stream",
     "text": [
      "number :  123\n"
     ]
    },
    {
     "data": {
      "text/plain": [
       "'hundred and twenty three'"
      ]
     },
     "execution_count": 16,
     "metadata": {},
     "output_type": "execute_result"
    }
   ],
   "source": [
    "def num2word(num):\n",
    "    ones = [\"\",'', \"one\", \"two\", \"three\", \"four\", \"five\", \"six\", \"seven\", \"eight\", \"nine\"]\n",
    "    tens = [\"\", \"\", \"twenty\", \"thirty\", \"forty\", \"fifty\", \"sixty\", \"seventy\", \"eighty\", \"ninety\"]\n",
    "    teens = [\"ten\", \"eleven\", \"twelve\", \"thirteen\", \"fourteen\", \"fifteen\", \"sixteen\", \"seventeen\", \"eighteen\", \"nineteen\"]\n",
    "\n",
    "\n",
    "    def two_dig(num):\n",
    "        if 0 <=num<10:\n",
    "            return ones[num]\n",
    "\n",
    "        elif 10<= num < 20:\n",
    "            return teens[num-10]\n",
    "\n",
    "        else:\n",
    "            return tens[num//10] + (\" \"+ ones[n%10] if (num%10!=0) else \"\")\n",
    "\n",
    "    def three_dig(num):\n",
    "        if num<100:\n",
    "            return two_dig(num)\n",
    "        else:\n",
    "            return ones[num//100] + ' hundred' + (\" and \" + two_dig(num%100) if num%100 != 0 else \"\")\n",
    "\n",
    "    res = ''\n",
    "    if num == 0:\n",
    "        return 'zero'\n",
    "\n",
    "    if(num>=1000):\n",
    "        res += three_dig(num//1000) + ' thousands '\n",
    "        if num%1000 != 0:\n",
    "            res += '' + three_dig(num%1000)\n",
    "\n",
    "    else:\n",
    "        res = three_dig(num)\n",
    "\n",
    "    return res.strip()\n",
    "    \n",
    "num = int(input('number : '))\n",
    "num2word(num)"
   ]
  },
  {
   "cell_type": "code",
   "execution_count": null,
   "id": "7db8a2e8-9184-488a-a6cc-4d7834be2533",
   "metadata": {},
   "outputs": [],
   "source": []
  }
 ],
 "metadata": {
  "kernelspec": {
   "display_name": "Python 3 (ipykernel)",
   "language": "python",
   "name": "python3"
  },
  "language_info": {
   "codemirror_mode": {
    "name": "ipython",
    "version": 3
   },
   "file_extension": ".py",
   "mimetype": "text/x-python",
   "name": "python",
   "nbconvert_exporter": "python",
   "pygments_lexer": "ipython3",
   "version": "3.13.3"
  }
 },
 "nbformat": 4,
 "nbformat_minor": 5
}
