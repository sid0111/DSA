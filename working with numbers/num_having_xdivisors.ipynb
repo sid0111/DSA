{
 "cells": [
  {
   "cell_type": "code",
   "execution_count": 2,
   "id": "d5d37933-f606-40fb-a5e8-acf7203ded60",
   "metadata": {},
   "outputs": [
    {
     "name": "stdin",
     "output_type": "stream",
     "text": [
      "enter number :  7\n"
     ]
    },
    {
     "name": "stdout",
     "output_type": "stream",
     "text": [
      "4\n"
     ]
    }
   ],
   "source": [
    "n = int(input('enter number : '))\n",
    "divisor = 2\n",
    "cnt = 0\n",
    "\n",
    "for i in range(1, n+1):\n",
    "    cnt_factors = 0\n",
    "\n",
    "    for j in range(1, i+1):\n",
    "\n",
    "        if i % j == 0:\n",
    "            cnt_factors += 1\n",
    "\n",
    "    if cnt_factors == divisor:\n",
    "        cnt += 1\n",
    "\n",
    "print(cnt)"
   ]
  },
  {
   "cell_type": "code",
   "execution_count": null,
   "id": "15db4c24-1081-4790-a53f-501b2cf74a4f",
   "metadata": {},
   "outputs": [],
   "source": []
  }
 ],
 "metadata": {
  "kernelspec": {
   "display_name": "Python 3 (ipykernel)",
   "language": "python",
   "name": "python3"
  },
  "language_info": {
   "codemirror_mode": {
    "name": "ipython",
    "version": 3
   },
   "file_extension": ".py",
   "mimetype": "text/x-python",
   "name": "python",
   "nbconvert_exporter": "python",
   "pygments_lexer": "ipython3",
   "version": "3.13.3"
  }
 },
 "nbformat": 4,
 "nbformat_minor": 5
}
