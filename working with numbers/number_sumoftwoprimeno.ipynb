{
 "cells": [
  {
   "cell_type": "code",
   "execution_count": 14,
   "id": "5233564d-5472-4446-ae44-a730f1a32344",
   "metadata": {},
   "outputs": [
    {
     "name": "stdin",
     "output_type": "stream",
     "text": [
      "enter number :  15\n"
     ]
    },
    {
     "name": "stdout",
     "output_type": "stream",
     "text": [
      "2 + 13 = 15\n"
     ]
    }
   ],
   "source": [
    "n = int(input('enter number : '))\n",
    "prime_arr = []\n",
    "\n",
    "for i in range(2, n):\n",
    "    flag = 0;\n",
    "    for j in range(2, i):\n",
    "        if(i % j == 0):\n",
    "            flag = 1;\n",
    "            break;\n",
    "\n",
    "    if(flag == 0):\n",
    "        prime_arr.append(i);\n",
    "\n",
    "flag = 0\n",
    "for i in range(len(prime_arr)):\n",
    "    for j in range(i+1, len(prime_arr)):\n",
    "        if prime_arr[i] + prime_arr[j] == n:\n",
    "            print(f'{prime_arr[i]} + {prime_arr[j]} = {n}')\n",
    "            flag = 1\n",
    "\n",
    "if flag == 0:\n",
    "            print('not possible')\n",
    "\n"
   ]
  },
  {
   "cell_type": "markdown",
   "id": "ba754d31-c4ae-4cf8-b85c-8ef2d718f7d5",
   "metadata": {},
   "source": [
    "# "
   ]
  }
 ],
 "metadata": {
  "kernelspec": {
   "display_name": "Python 3 (ipykernel)",
   "language": "python",
   "name": "python3"
  },
  "language_info": {
   "codemirror_mode": {
    "name": "ipython",
    "version": 3
   },
   "file_extension": ".py",
   "mimetype": "text/x-python",
   "name": "python",
   "nbconvert_exporter": "python",
   "pygments_lexer": "ipython3",
   "version": "3.13.3"
  }
 },
 "nbformat": 4,
 "nbformat_minor": 5
}
