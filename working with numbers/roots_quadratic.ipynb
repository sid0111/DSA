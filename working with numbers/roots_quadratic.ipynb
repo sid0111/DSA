{
 "cells": [
  {
   "cell_type": "code",
   "execution_count": 3,
   "id": "52159432-d29c-49e9-b2cd-1f2f26a6ee22",
   "metadata": {},
   "outputs": [
    {
     "name": "stdout",
     "output_type": "stream",
     "text": [
      "real and same\n",
      "-2.0\n"
     ]
    }
   ],
   "source": [
    "import math\n",
    "\n",
    "def find_roots(a, b, c):\n",
    "\n",
    "    if a == 0:\n",
    "        print('invalid')\n",
    "        return -1\n",
    "\n",
    "    d = b * b - (4 * a * c)\n",
    "    sq_val = math.sqrt(abs(d))\n",
    "\n",
    "    if d>0:\n",
    "        print('real and different')\n",
    "        print((-b + sq_val)/(2*a))\n",
    "        print((-b - sq_val)/(2*a))\n",
    "\n",
    "    elif d<0:\n",
    "        print('no real')\n",
    "        print(-b/(2*a),\" + i\", sq_val)\n",
    "        print(-b/(2*a),\" - i\", sq_val)\n",
    "\n",
    "    else:\n",
    "        print('real and same')\n",
    "        print(-b/(2*a))\n",
    "\n",
    "find_roots(1, 4, 4)"
   ]
  },
  {
   "cell_type": "code",
   "execution_count": null,
   "id": "95780437-e859-4707-9789-15e3775b74e9",
   "metadata": {},
   "outputs": [],
   "source": [
    "\n"
   ]
  }
 ],
 "metadata": {
  "kernelspec": {
   "display_name": "Python 3 (ipykernel)",
   "language": "python",
   "name": "python3"
  },
  "language_info": {
   "codemirror_mode": {
    "name": "ipython",
    "version": 3
   },
   "file_extension": ".py",
   "mimetype": "text/x-python",
   "name": "python",
   "nbconvert_exporter": "python",
   "pygments_lexer": "ipython3",
   "version": "3.13.3"
  }
 },
 "nbformat": 4,
 "nbformat_minor": 5
}
