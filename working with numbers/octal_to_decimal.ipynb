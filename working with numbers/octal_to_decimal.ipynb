{
 "cells": [
  {
   "cell_type": "code",
   "execution_count": 2,
   "id": "a61c8af2-2c28-4084-800f-2abde3980e9a",
   "metadata": {},
   "outputs": [
    {
     "name": "stdin",
     "output_type": "stream",
     "text": [
      "ocal number :  512\n"
     ]
    },
    {
     "name": "stdout",
     "output_type": "stream",
     "text": [
      "Decimal :  330\n"
     ]
    }
   ],
   "source": [
    "octal = int(input('ocal number : '))\n",
    "base = 1\n",
    "decimal = 0\n",
    "\n",
    "while octal>0:\n",
    "    rem = octal%10\n",
    "    octal//=10\n",
    "    decimal = decimal+rem * base\n",
    "    base = base*8\n",
    "\n",
    "print('Decimal : ',decimal)"
   ]
  },
  {
   "cell_type": "code",
   "execution_count": 4,
   "id": "afc56479-6342-4027-8a12-419bc39e286e",
   "metadata": {},
   "outputs": [
    {
     "name": "stdin",
     "output_type": "stream",
     "text": [
      "octal :  512\n"
     ]
    },
    {
     "name": "stdout",
     "output_type": "stream",
     "text": [
      "330\n"
     ]
    }
   ],
   "source": [
    "octal = int(input('octal : '))\n",
    "\n",
    "decimal = int(str(octal), 8)\n",
    "\n",
    "print(decimal)"
   ]
  },
  {
   "cell_type": "code",
   "execution_count": null,
   "id": "afa483c4-318b-4c0e-9bc2-8be02e28ec1c",
   "metadata": {},
   "outputs": [],
   "source": []
  }
 ],
 "metadata": {
  "kernelspec": {
   "display_name": "Python 3 (ipykernel)",
   "language": "python",
   "name": "python3"
  },
  "language_info": {
   "codemirror_mode": {
    "name": "ipython",
    "version": 3
   },
   "file_extension": ".py",
   "mimetype": "text/x-python",
   "name": "python",
   "nbconvert_exporter": "python",
   "pygments_lexer": "ipython3",
   "version": "3.13.3"
  }
 },
 "nbformat": 4,
 "nbformat_minor": 5
}
