{
 "cells": [
  {
   "cell_type": "code",
   "execution_count": 2,
   "id": "80e2bd90-73fb-44de-827f-1690962dce8d",
   "metadata": {},
   "outputs": [
    {
     "name": "stdin",
     "output_type": "stream",
     "text": [
      "number :  89796949\n",
      "enter digit :  9\n"
     ]
    },
    {
     "name": "stdout",
     "output_type": "stream",
     "text": [
      "No . of times digit repeat in number is :  4\n"
     ]
    }
   ],
   "source": [
    "num = int(input('number : '))\n",
    "dig = int(input('enter digit : '))\n",
    "cnt = 0\n",
    "\n",
    "while num > 0:\n",
    "    rem = num % 10\n",
    "    if(rem == dig):\n",
    "        cnt += 1\n",
    "    num//=10\n",
    "\n",
    "print('No . of times digit repeat in number is : ',cnt)\n"
   ]
  },
  {
   "cell_type": "code",
   "execution_count": 4,
   "id": "e14975f5-6e42-486a-b02a-763ce28e0d83",
   "metadata": {},
   "outputs": [
    {
     "name": "stdin",
     "output_type": "stream",
     "text": [
      "enter number :  79896949\n",
      "enter digit :  9\n"
     ]
    },
    {
     "name": "stdout",
     "output_type": "stream",
     "text": [
      "No . of times digit repeat in number is :  4\n"
     ]
    }
   ],
   "source": [
    "num = input('enter number : ')\n",
    "dig = input('enter digit : ')\n",
    "cnt = 0\n",
    "\n",
    "for i in num:\n",
    "    if i == dig:\n",
    "        cnt += 1\n",
    "\n",
    "print('No . of times digit repeat in number is : ',cnt)    "
   ]
  },
  {
   "cell_type": "code",
   "execution_count": 5,
   "id": "685e5251-fc76-478b-922d-53b4624c0cdb",
   "metadata": {},
   "outputs": [
    {
     "name": "stdin",
     "output_type": "stream",
     "text": [
      "enter number :  7989495969\n",
      "enter digit :  9\n"
     ]
    },
    {
     "name": "stdout",
     "output_type": "stream",
     "text": [
      "No . of times digit repeat in number is :  5\n"
     ]
    }
   ],
   "source": [
    "#we can also use count function\n",
    "num = input('enter number : ')\n",
    "dig = input('enter digit : ')\n",
    "cnt = 0\n",
    "\n",
    "cnt = num.count(dig)\n",
    "\n",
    "print('No . of times digit repeat in number is : ',cnt)  "
   ]
  },
  {
   "cell_type": "code",
   "execution_count": null,
   "id": "289697b6-0c9d-4a32-9433-5040059992f3",
   "metadata": {},
   "outputs": [],
   "source": []
  }
 ],
 "metadata": {
  "kernelspec": {
   "display_name": "Python 3 (ipykernel)",
   "language": "python",
   "name": "python3"
  },
  "language_info": {
   "codemirror_mode": {
    "name": "ipython",
    "version": 3
   },
   "file_extension": ".py",
   "mimetype": "text/x-python",
   "name": "python",
   "nbconvert_exporter": "python",
   "pygments_lexer": "ipython3",
   "version": "3.13.3"
  }
 },
 "nbformat": 4,
 "nbformat_minor": 5
}
