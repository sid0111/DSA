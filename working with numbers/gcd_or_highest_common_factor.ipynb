{
 "cells": [
  {
   "cell_type": "code",
   "execution_count": 5,
   "id": "18fbc342-3b11-455a-92dc-369c4b64ed34",
   "metadata": {},
   "outputs": [
    {
     "name": "stdin",
     "output_type": "stream",
     "text": [
      "number 1 :  36\n",
      "number 2 :  60\n"
     ]
    },
    {
     "name": "stdout",
     "output_type": "stream",
     "text": [
      "highest common factor is :  12\n"
     ]
    }
   ],
   "source": [
    "#approach1\n",
    "num1 = int(input('number 1 : '))\n",
    "num2 = int(input('number 2 : '))\n",
    "hcf = 0\n",
    "\n",
    "for i in range(2, min(num1, num2)):\n",
    "    if num1%i == 0 and num2%i == 0:\n",
    "        hcf = i\n",
    "\n",
    "print('highest common factor is : ',hcf)\n",
    "    "
   ]
  },
  {
   "cell_type": "code",
   "execution_count": 7,
   "id": "8f52c146-bf05-4534-a0ff-70fabbe2ac15",
   "metadata": {},
   "outputs": [
    {
     "name": "stdin",
     "output_type": "stream",
     "text": [
      "number 1 :  20\n",
      "number 2 :  24\n"
     ]
    },
    {
     "name": "stdout",
     "output_type": "stream",
     "text": [
      "HCF is :  4\n"
     ]
    }
   ],
   "source": [
    "num1 = int(input('number 1 : '))\n",
    "num2 = int(input('number 2 : '))\n",
    "\n",
    "while num1!=num2:\n",
    "    if num1>num2:\n",
    "        num1-=num2\n",
    "    else:\n",
    "        num2 -= num1\n",
    "\n",
    "print('HCF is : ',num1)"
   ]
  },
  {
   "cell_type": "code",
   "execution_count": 10,
   "id": "f82f88e1-01a2-46cb-85ee-981ee08eb165",
   "metadata": {},
   "outputs": [
    {
     "name": "stdin",
     "output_type": "stream",
     "text": [
      "number 1 :  20\n",
      "number 2 :  24\n"
     ]
    },
    {
     "name": "stdout",
     "output_type": "stream",
     "text": [
      "HCF of given two number is :  4\n"
     ]
    }
   ],
   "source": [
    "# recursive fuction\n",
    "\n",
    "num1 = int(input('number 1 : '))\n",
    "num2 = int(input('number 2 : '))\n",
    "\n",
    "def find_hcf(a, b):\n",
    "    if b==0:\n",
    "        return a\n",
    "    else:\n",
    "        return find_hcf(b, a%b)\n",
    "\n",
    "print('HCF of given two number is : ',find_hcf(num1, num2))"
   ]
  },
  {
   "cell_type": "code",
   "execution_count": null,
   "id": "aaa25fb4-46d2-4038-b898-f0eae32d4a55",
   "metadata": {},
   "outputs": [],
   "source": []
  }
 ],
 "metadata": {
  "kernelspec": {
   "display_name": "Python 3 (ipykernel)",
   "language": "python",
   "name": "python3"
  },
  "language_info": {
   "codemirror_mode": {
    "name": "ipython",
    "version": 3
   },
   "file_extension": ".py",
   "mimetype": "text/x-python",
   "name": "python",
   "nbconvert_exporter": "python",
   "pygments_lexer": "ipython3",
   "version": "3.13.3"
  }
 },
 "nbformat": 4,
 "nbformat_minor": 5
}
