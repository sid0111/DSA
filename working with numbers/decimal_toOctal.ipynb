{
 "cells": [
  {
   "cell_type": "code",
   "execution_count": 15,
   "id": "b613ed5d-5d26-477f-9c0f-8aaa9922285a",
   "metadata": {},
   "outputs": [
    {
     "name": "stdin",
     "output_type": "stream",
     "text": [
      "number :  394\n"
     ]
    },
    {
     "name": "stdout",
     "output_type": "stream",
     "text": [
      "612"
     ]
    }
   ],
   "source": [
    "num = int(input('number : '))\n",
    "octal = []\n",
    "\n",
    "while num>0:\n",
    "    rem = num%8\n",
    "    octal.append(rem)\n",
    "    num//=8\n",
    "\n",
    "for i in reversed(octal):\n",
    "    print(i, end='')\n",
    "    "
   ]
  },
  {
   "cell_type": "code",
   "execution_count": 18,
   "id": "714a94e2-012c-469d-b66a-e8ebaa12ff57",
   "metadata": {},
   "outputs": [
    {
     "name": "stdin",
     "output_type": "stream",
     "text": [
      "number :  394\n"
     ]
    },
    {
     "name": "stdout",
     "output_type": "stream",
     "text": [
      "612\n"
     ]
    }
   ],
   "source": [
    "#approach 2\n",
    "num = int(input('number : '))\n",
    "octal = 0\n",
    "base = 1\n",
    "\n",
    "while num>0:\n",
    "    rem = num%8\n",
    "    octal = octal + rem * base\n",
    "    base *= 10\n",
    "    num//=8\n",
    "\n",
    "print(octal)"
   ]
  },
  {
   "cell_type": "code",
   "execution_count": null,
   "id": "34adba85-974c-40f8-9251-fd26b0b42a4c",
   "metadata": {},
   "outputs": [],
   "source": []
  }
 ],
 "metadata": {
  "kernelspec": {
   "display_name": "Python 3 (ipykernel)",
   "language": "python",
   "name": "python3"
  },
  "language_info": {
   "codemirror_mode": {
    "name": "ipython",
    "version": 3
   },
   "file_extension": ".py",
   "mimetype": "text/x-python",
   "name": "python",
   "nbconvert_exporter": "python",
   "pygments_lexer": "ipython3",
   "version": "3.13.3"
  }
 },
 "nbformat": 4,
 "nbformat_minor": 5
}
