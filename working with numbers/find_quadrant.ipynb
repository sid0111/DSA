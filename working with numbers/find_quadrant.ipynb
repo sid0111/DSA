{
 "cells": [
  {
   "cell_type": "code",
   "execution_count": 9,
   "id": "63a53d79-f0e8-458d-b04f-2d923a56154f",
   "metadata": {},
   "outputs": [
    {
     "name": "stdin",
     "output_type": "stream",
     "text": [
      "enter x and y coordinates values :  24 -14\n"
     ]
    },
    {
     "name": "stdout",
     "output_type": "stream",
     "text": [
      "IV Quad\n"
     ]
    }
   ],
   "source": [
    "x, y = map(int, input('enter x and y coordinates values : ').split(\" \"))\n",
    "\n",
    "if (x>0 and y>0):\n",
    "    print('I Quad')\n",
    "\n",
    "elif(x<0 and y>0):\n",
    "    print('II Quad')\n",
    "\n",
    "elif(x<0 and y<0):\n",
    "    print('III Quad')\n",
    "\n",
    "elif(x>0 and y<0):\n",
    "    print('IV Quad')\n",
    "\n",
    "elif(x==0 and y==0):\n",
    "    print('origin')\n",
    "\n",
    "elif(x==0 and y!=0):\n",
    "    print('Y axis')\n",
    "\n",
    "else:\n",
    "    print('x axis')"
   ]
  },
  {
   "cell_type": "code",
   "execution_count": null,
   "id": "6dac5469-9923-416b-b455-8151472d3c98",
   "metadata": {},
   "outputs": [],
   "source": []
  },
  {
   "cell_type": "code",
   "execution_count": null,
   "id": "890cf999-b80f-49e4-a95b-cf9bc9170374",
   "metadata": {},
   "outputs": [],
   "source": []
  }
 ],
 "metadata": {
  "kernelspec": {
   "display_name": "Python 3 (ipykernel)",
   "language": "python",
   "name": "python3"
  },
  "language_info": {
   "codemirror_mode": {
    "name": "ipython",
    "version": 3
   },
   "file_extension": ".py",
   "mimetype": "text/x-python",
   "name": "python",
   "nbconvert_exporter": "python",
   "pygments_lexer": "ipython3",
   "version": "3.13.3"
  }
 },
 "nbformat": 4,
 "nbformat_minor": 5
}
