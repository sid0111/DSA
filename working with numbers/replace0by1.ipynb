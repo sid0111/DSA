{
 "cells": [
  {
   "cell_type": "markdown",
   "id": "28156878-849c-4b80-983e-e32f3c4561ce",
   "metadata": {},
   "source": [
    "#### string is immutable so we cannot perform this op\n",
    "\n",
    "num = input('enter number : ')\n",
    "\n",
    "for i in range(len(num)):\n",
    "    if(num[i] == 0):\n",
    "        num[i] = 1\n",
    "\n",
    "num"
   ]
  },
  {
   "cell_type": "code",
   "execution_count": 18,
   "id": "c2d75635-a5a5-40a9-9f9f-84f35b595e02",
   "metadata": {},
   "outputs": [
    {
     "name": "stdin",
     "output_type": "stream",
     "text": [
      "number :  23456780000987000\n"
     ]
    },
    {
     "data": {
      "text/plain": [
       "'23456781111987111'"
      ]
     },
     "execution_count": 18,
     "metadata": {},
     "output_type": "execute_result"
    }
   ],
   "source": [
    "num = input('number : ')\n",
    "list_num = []\n",
    "\n",
    "for i in num:\n",
    "    if i == '0':\n",
    "        list_num.append('1')\n",
    "    else:\n",
    "        list_num.append(i)\n",
    "\n",
    "ns = ''\n",
    "for i in list_num:\n",
    "    ns+=i\n",
    "\n",
    "ns"
   ]
  },
  {
   "cell_type": "code",
   "execution_count": null,
   "id": "7af10ada-e586-4bc5-8d37-9ca64805ddaf",
   "metadata": {},
   "outputs": [],
   "source": []
  }
 ],
 "metadata": {
  "kernelspec": {
   "display_name": "Python 3 (ipykernel)",
   "language": "python",
   "name": "python3"
  },
  "language_info": {
   "codemirror_mode": {
    "name": "ipython",
    "version": 3
   },
   "file_extension": ".py",
   "mimetype": "text/x-python",
   "name": "python",
   "nbconvert_exporter": "python",
   "pygments_lexer": "ipython3",
   "version": "3.13.3"
  }
 },
 "nbformat": 4,
 "nbformat_minor": 5
}
