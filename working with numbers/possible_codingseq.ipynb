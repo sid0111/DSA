{
 "cells": [
  {
   "cell_type": "code",
   "execution_count": 3,
   "id": "ac9c2485-56a2-4a8c-a615-19e57ca004b7",
   "metadata": {},
   "outputs": [
    {
     "name": "stdin",
     "output_type": "stream",
     "text": [
      "number :  141\n"
     ]
    },
    {
     "name": "stdout",
     "output_type": "stream",
     "text": [
      "2\n"
     ]
    }
   ],
   "source": [
    "n = input('number : ')\n",
    "\n",
    "def decoding_num(dig, a):\n",
    "    cnt = [0] * (a+1) #initialize empty array with zero of size length +1\n",
    "    cnt[0], cnt[1] = 1, 1\n",
    "\n",
    "    for i in range(2, a+1):\n",
    "        cnt[i] = cnt[i-1]\n",
    "\n",
    "        if dig[i-2] == '1' or dig[i-2] == '2' and dig[i-1] < '7':\n",
    "            cnt[i] += cnt[i-2]\n",
    "\n",
    "    return cnt[a]\n",
    "\n",
    "\n",
    "num = decoding_num(n, len(n))\n",
    "print(num)"
   ]
  },
  {
   "cell_type": "code",
   "execution_count": null,
   "id": "6fe98fed-a44e-4531-83dc-d2191207806f",
   "metadata": {},
   "outputs": [],
   "source": []
  }
 ],
 "metadata": {
  "kernelspec": {
   "display_name": "Python 3 (ipykernel)",
   "language": "python",
   "name": "python3"
  },
  "language_info": {
   "codemirror_mode": {
    "name": "ipython",
    "version": 3
   },
   "file_extension": ".py",
   "mimetype": "text/x-python",
   "name": "python",
   "nbconvert_exporter": "python",
   "pygments_lexer": "ipython3",
   "version": "3.13.3"
  }
 },
 "nbformat": 4,
 "nbformat_minor": 5
}
