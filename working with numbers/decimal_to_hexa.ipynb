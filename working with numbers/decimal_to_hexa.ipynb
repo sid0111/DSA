{
 "cells": [
  {
   "cell_type": "code",
   "execution_count": 3,
   "id": "365a52dd-6217-4d2a-a404-a3437b918be7",
   "metadata": {},
   "outputs": [
    {
     "name": "stdin",
     "output_type": "stream",
     "text": [
      "number :  2545\n"
     ]
    },
    {
     "name": "stdout",
     "output_type": "stream",
     "text": [
      "9F1"
     ]
    }
   ],
   "source": [
    "num = int(input('number : '))\n",
    "hexa = []\n",
    "while num>0:\n",
    "    rem = num%16\n",
    "    if rem>=0 and rem<=10:\n",
    "        hexa.append(rem)\n",
    "    else:\n",
    "        n = chr(rem+55)\n",
    "        hexa.append(n)\n",
    "    num//=16\n",
    "\n",
    "for i in reversed(hexa):\n",
    "    print(i,end='')"
   ]
  },
  {
   "cell_type": "code",
   "execution_count": null,
   "id": "19b11278-434a-4a62-85cb-be38e0f6a145",
   "metadata": {},
   "outputs": [],
   "source": [
    "\n",
    "        "
   ]
  }
 ],
 "metadata": {
  "kernelspec": {
   "display_name": "Python 3 (ipykernel)",
   "language": "python",
   "name": "python3"
  },
  "language_info": {
   "codemirror_mode": {
    "name": "ipython",
    "version": 3
   },
   "file_extension": ".py",
   "mimetype": "text/x-python",
   "name": "python",
   "nbconvert_exporter": "python",
   "pygments_lexer": "ipython3",
   "version": "3.13.3"
  }
 },
 "nbformat": 4,
 "nbformat_minor": 5
}
