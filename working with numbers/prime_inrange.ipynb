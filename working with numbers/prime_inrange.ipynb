{
 "cells": [
  {
   "cell_type": "code",
   "execution_count": 7,
   "id": "48c0db61-0b14-4a28-8880-e972241fba63",
   "metadata": {},
   "outputs": [
    {
     "name": "stdin",
     "output_type": "stream",
     "text": [
      "number :  1\n",
      "number :  100\n"
     ]
    },
    {
     "data": {
      "text/plain": [
       "[1,\n",
       " 2,\n",
       " 3,\n",
       " 5,\n",
       " 7,\n",
       " 11,\n",
       " 13,\n",
       " 17,\n",
       " 19,\n",
       " 23,\n",
       " 29,\n",
       " 31,\n",
       " 37,\n",
       " 41,\n",
       " 43,\n",
       " 47,\n",
       " 53,\n",
       " 59,\n",
       " 61,\n",
       " 67,\n",
       " 71,\n",
       " 73,\n",
       " 79,\n",
       " 83,\n",
       " 89,\n",
       " 97]"
      ]
     },
     "execution_count": 7,
     "metadata": {},
     "output_type": "execute_result"
    }
   ],
   "source": [
    "s = int(input('number : '))\n",
    "e = int(input('number : '))\n",
    "\n",
    "prime_arr = []\n",
    "\n",
    "for i in range(s, e + 1):\n",
    "    flag = 0\n",
    "    for j in range(2, i//2+1):\n",
    "        if(i%j == 0):\n",
    "            flag = 1\n",
    "            break\n",
    "\n",
    "    if(flag == 0):\n",
    "        prime_arr.append(i)\n",
    "\n",
    "prime_arr"
   ]
  },
  {
   "cell_type": "code",
   "execution_count": null,
   "id": "539a0dbf-36d6-4fc4-b8b2-2ba929647bea",
   "metadata": {},
   "outputs": [],
   "source": []
  }
 ],
 "metadata": {
  "kernelspec": {
   "display_name": "Python 3 (ipykernel)",
   "language": "python",
   "name": "python3"
  },
  "language_info": {
   "codemirror_mode": {
    "name": "ipython",
    "version": 3
   },
   "file_extension": ".py",
   "mimetype": "text/x-python",
   "name": "python",
   "nbconvert_exporter": "python",
   "pygments_lexer": "ipython3",
   "version": "3.13.3"
  }
 },
 "nbformat": 4,
 "nbformat_minor": 5
}
