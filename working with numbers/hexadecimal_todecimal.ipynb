{
 "cells": [
  {
   "cell_type": "markdown",
   "id": "c7ebf548-db10-4d5a-af3f-261f04256247",
   "metadata": {},
   "source": [
    "# wrong approach"
   ]
  },
  {
   "cell_type": "code",
   "execution_count": 2,
   "id": "82e0efcf-84d4-470f-b873-6de64dbed938",
   "metadata": {},
   "outputs": [
    {
     "name": "stdin",
     "output_type": "stream",
     "text": [
      "hexa number :  9\n"
     ]
    },
    {
     "name": "stdout",
     "output_type": "stream",
     "text": [
      "Decimal :  9\n"
     ]
    }
   ],
   "source": [
    "hexa = int(input('hexa number : '))\n",
    "base = 1\n",
    "decimal = 0\n",
    "\n",
    "while hexa>0:\n",
    "    rem = hexa%10\n",
    "    hexa//=10\n",
    "    decimal = decimal + rem * base\n",
    "    base = base *16\n",
    "\n",
    "print('Decimal : ',decimal)"
   ]
  },
  {
   "cell_type": "markdown",
   "id": "5d8c9925-4d09-4c25-99ab-48133e5a4212",
   "metadata": {},
   "source": [
    "# correct way "
   ]
  },
  {
   "cell_type": "code",
   "execution_count": 14,
   "id": "1f882afe-2522-4857-9cbe-87a462d14778",
   "metadata": {},
   "outputs": [
    {
     "data": {
      "text/plain": [
       "201.0"
      ]
     },
     "execution_count": 14,
     "metadata": {},
     "output_type": "execute_result"
    }
   ],
   "source": [
    "import math\n",
    "# num = input('number : ')\n",
    "\n",
    "def get_decimal(n):\n",
    "    pos = 0\n",
    "    decimal = 0\n",
    "    l = len(num)\n",
    "\n",
    "    for i in range(l-1, -1, -1):\n",
    "        if '0' <= n[i] <= '9':\n",
    "            rem = int(n[i])\n",
    "            decimal += rem * math.pow(16, pos)\n",
    "            pos += 1\n",
    "\n",
    "        if 'A' <= n[i] <= 'F':\n",
    "            rem = ord(n[i]) - 55\n",
    "            decimal += rem * pow(16, pos)\n",
    "            pos+=1\n",
    "\n",
    "    return decimal\n",
    "            \n",
    "get_decimal('C9')"
   ]
  },
  {
   "cell_type": "code",
   "execution_count": null,
   "id": "418d8d11-bcc8-4a93-adb8-eb03c9c5c78b",
   "metadata": {},
   "outputs": [],
   "source": [
    "\n"
   ]
  }
 ],
 "metadata": {
  "kernelspec": {
   "display_name": "Python 3 (ipykernel)",
   "language": "python",
   "name": "python3"
  },
  "language_info": {
   "codemirror_mode": {
    "name": "ipython",
    "version": 3
   },
   "file_extension": ".py",
   "mimetype": "text/x-python",
   "name": "python",
   "nbconvert_exporter": "python",
   "pygments_lexer": "ipython3",
   "version": "3.13.3"
  }
 },
 "nbformat": 4,
 "nbformat_minor": 5
}
