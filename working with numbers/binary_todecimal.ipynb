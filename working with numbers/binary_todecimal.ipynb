{
 "cells": [
  {
   "cell_type": "code",
   "execution_count": 3,
   "id": "f52c33b3-e123-4923-afd3-b4d51d626300",
   "metadata": {},
   "outputs": [
    {
     "name": "stdin",
     "output_type": "stream",
     "text": [
      "number :  1110\n"
     ]
    },
    {
     "name": "stdout",
     "output_type": "stream",
     "text": [
      "14\n"
     ]
    }
   ],
   "source": [
    "num = int(input('number : '))\n",
    "base = 1\n",
    "decimal = 0\n",
    "\n",
    "while num>0:\n",
    "    rem = num%10\n",
    "    decimal = decimal + rem * base\n",
    "    num//=10\n",
    "    base = base * 2\n",
    "\n",
    "print(decimal)"
   ]
  },
  {
   "cell_type": "code",
   "execution_count": 6,
   "id": "64040387-e998-4c33-aeec-e2ffb2d2baf7",
   "metadata": {},
   "outputs": [
    {
     "name": "stdin",
     "output_type": "stream",
     "text": [
      "binary number :  1110\n"
     ]
    },
    {
     "data": {
      "text/plain": [
       "14"
      ]
     },
     "execution_count": 6,
     "metadata": {},
     "output_type": "execute_result"
    }
   ],
   "source": [
    "binary = input('binary number : ')\n",
    "\n",
    "\n",
    "decimal = int(binary,2)\n",
    "decimal"
   ]
  },
  {
   "cell_type": "code",
   "execution_count": null,
   "id": "25b51996-44ea-4031-b822-0c0cfdc501be",
   "metadata": {},
   "outputs": [],
   "source": []
  }
 ],
 "metadata": {
  "kernelspec": {
   "display_name": "Python 3 (ipykernel)",
   "language": "python",
   "name": "python3"
  },
  "language_info": {
   "codemirror_mode": {
    "name": "ipython",
    "version": 3
   },
   "file_extension": ".py",
   "mimetype": "text/x-python",
   "name": "python",
   "nbconvert_exporter": "python",
   "pygments_lexer": "ipython3",
   "version": "3.13.3"
  }
 },
 "nbformat": 4,
 "nbformat_minor": 5
}
