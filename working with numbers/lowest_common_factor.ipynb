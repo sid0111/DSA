{
 "cells": [
  {
   "cell_type": "code",
   "execution_count": 4,
   "id": "31732ead-5a6a-4d0b-8461-b7fc37fda836",
   "metadata": {},
   "outputs": [
    {
     "name": "stdin",
     "output_type": "stream",
     "text": [
      "number 1 :  12\n",
      "number 2 :  14\n"
     ]
    },
    {
     "name": "stdout",
     "output_type": "stream",
     "text": [
      "lowest common factor is :  84\n"
     ]
    }
   ],
   "source": [
    "#approach1\n",
    "num1 = int(input('number 1 : '))\n",
    "num2 = int(input('number 2 : '))\n",
    "lcm = 0\n",
    "\n",
    "for i in range(max(num1, num2), 1+(num1*num2), max(num2,num2)): #this step count will significantly decrease the iteratios as middle number cannot divide both\n",
    "    if (i%num1 == 0 and i%num2 == 0):\n",
    "        lcm = i\n",
    "        break\n",
    "\n",
    "print('lowest common factor is : ',lcm)"
   ]
  },
  {
   "cell_type": "code",
   "execution_count": 5,
   "id": "5abe7ec4-c8ff-4da1-b1ab-48596805e078",
   "metadata": {},
   "outputs": [
    {
     "name": "stdin",
     "output_type": "stream",
     "text": [
      "number 1 :  12\n",
      "number 2 :  14\n"
     ]
    },
    {
     "name": "stdout",
     "output_type": "stream",
     "text": [
      "LCM is  84\n"
     ]
    }
   ],
   "source": [
    "num1 = int(input('number 1 : '))\n",
    "num2 = int(input('number 2 : '))\n",
    "hcf = 0\n",
    "\n",
    "for i in range(2, min(num1, num2)):\n",
    "    if num1%i == 0 and num2%i == 0:\n",
    "        hcf = i\n",
    "\n",
    "lcm = (num1*num2)//2\n",
    "print('LCM is ',lcm)"
   ]
  },
  {
   "cell_type": "code",
   "execution_count": 11,
   "id": "594f4add-f925-4517-b69c-ba854b646fad",
   "metadata": {},
   "outputs": [
    {
     "name": "stdin",
     "output_type": "stream",
     "text": [
      "number 1 :  12\n",
      "number 2 :  14\n"
     ]
    },
    {
     "name": "stdout",
     "output_type": "stream",
     "text": [
      "LCM :  84\n"
     ]
    }
   ],
   "source": [
    "a = int(input('number 1 : '))\n",
    "b = int(input('number 2 : '))\n",
    "\n",
    "def get_hcf(a, b):\n",
    "    if b==0:\n",
    "        return a\n",
    "    else:\n",
    "        return get_hcf(b, a%b)\n",
    "\n",
    "hcf = get_hcf(a, b)\n",
    "\n",
    "lcm = (num1*num2)//hcf\n",
    "\n",
    "print('LCM : ',lcm)"
   ]
  },
  {
   "cell_type": "code",
   "execution_count": null,
   "id": "28ec6582-8daa-4d41-a81e-772bac80735a",
   "metadata": {},
   "outputs": [],
   "source": []
  }
 ],
 "metadata": {
  "kernelspec": {
   "display_name": "Python 3 (ipykernel)",
   "language": "python",
   "name": "python3"
  },
  "language_info": {
   "codemirror_mode": {
    "name": "ipython",
    "version": 3
   },
   "file_extension": ".py",
   "mimetype": "text/x-python",
   "name": "python",
   "nbconvert_exporter": "python",
   "pygments_lexer": "ipython3",
   "version": "3.13.3"
  }
 },
 "nbformat": 4,
 "nbformat_minor": 5
}
