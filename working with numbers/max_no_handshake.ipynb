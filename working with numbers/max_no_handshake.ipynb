{
 "cells": [
  {
   "cell_type": "code",
   "execution_count": 6,
   "id": "f4eec37f-8511-41ce-86fa-a616a85cbf64",
   "metadata": {},
   "outputs": [
    {
     "name": "stdin",
     "output_type": "stream",
     "text": [
      "enter no. people :  3\n"
     ]
    },
    {
     "name": "stdout",
     "output_type": "stream",
     "text": [
      "Max no of handshake :  3\n"
     ]
    }
   ],
   "source": [
    "n = int(input('enter no. people : '))\n",
    "\n",
    "no_handshake = (n*(n-1))//2\n",
    "\n",
    "print('Max no of handshake : ',no_handshake)"
   ]
  },
  {
   "cell_type": "code",
   "execution_count": null,
   "id": "080cc50c-2a07-420d-9251-2120a8cd17dd",
   "metadata": {},
   "outputs": [],
   "source": []
  }
 ],
 "metadata": {
  "kernelspec": {
   "display_name": "Python 3 (ipykernel)",
   "language": "python",
   "name": "python3"
  },
  "language_info": {
   "codemirror_mode": {
    "name": "ipython",
    "version": 3
   },
   "file_extension": ".py",
   "mimetype": "text/x-python",
   "name": "python",
   "nbconvert_exporter": "python",
   "pygments_lexer": "ipython3",
   "version": "3.13.3"
  }
 },
 "nbformat": 4,
 "nbformat_minor": 5
}
