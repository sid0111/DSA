{
 "cells": [
  {
   "cell_type": "code",
   "execution_count": 7,
   "id": "b3aa5b88-5106-4199-9af6-3ae0fd2eb424",
   "metadata": {},
   "outputs": [
    {
     "name": "stdin",
     "output_type": "stream",
     "text": [
      "number :  12\n"
     ]
    },
    {
     "data": {
      "text/plain": [
       "1010"
      ]
     },
     "execution_count": 7,
     "metadata": {},
     "output_type": "execute_result"
    }
   ],
   "source": [
    "num = int(input('number : '))\n",
    "\n",
    "#octal to decimal\n",
    "decimal = 0\n",
    "i = 0\n",
    "while num>0:\n",
    "    rem = num%10\n",
    "    decimal += rem*pow(8,i)\n",
    "    i+=1\n",
    "    num//=10\n",
    "\n",
    "#decimal to binary\n",
    "binary = 0\n",
    "i = 1\n",
    "while decimal>0:\n",
    "    rem = decimal%2\n",
    "    binary = binary +rem*i\n",
    "    i*=10\n",
    "    decimal//=2\n",
    "\n",
    "binary"
   ]
  },
  {
   "cell_type": "code",
   "execution_count": 9,
   "id": "aa1f45cd-0fce-402f-bf50-9cc9f1fb125c",
   "metadata": {},
   "outputs": [
    {
     "name": "stdin",
     "output_type": "stream",
     "text": [
      "number :  12\n"
     ]
    },
    {
     "name": "stdout",
     "output_type": "stream",
     "text": [
      "001010"
     ]
    }
   ],
   "source": [
    "octal = input('number : ')\n",
    "\n",
    "for i in range(len(octal)):\n",
    "    switcher = {\n",
    "        0 : '000',\n",
    "        1 : '001',\n",
    "        2 : '010',\n",
    "        3 : '011',\n",
    "        4 : '100',\n",
    "        5 : '101',\n",
    "        6 : '110',\n",
    "        7 : '111'\n",
    "    }\n",
    "\n",
    "    print(switcher.get(int(octal[i]), 'invalid input'), end='')\n"
   ]
  },
  {
   "cell_type": "code",
   "execution_count": null,
   "id": "629e7cfc-a7ba-478c-8d37-dca4fb5a2318",
   "metadata": {},
   "outputs": [],
   "source": []
  }
 ],
 "metadata": {
  "kernelspec": {
   "display_name": "Python 3 (ipykernel)",
   "language": "python",
   "name": "python3"
  },
  "language_info": {
   "codemirror_mode": {
    "name": "ipython",
    "version": 3
   },
   "file_extension": ".py",
   "mimetype": "text/x-python",
   "name": "python",
   "nbconvert_exporter": "python",
   "pygments_lexer": "ipython3",
   "version": "3.13.3"
  }
 },
 "nbformat": 4,
 "nbformat_minor": 5
}
