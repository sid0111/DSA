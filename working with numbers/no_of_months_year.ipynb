{
 "cells": [
  {
   "cell_type": "code",
   "execution_count": 7,
   "id": "92e94442-02f2-4bef-bbb8-6647930a8f67",
   "metadata": {},
   "outputs": [
    {
     "name": "stdin",
     "output_type": "stream",
     "text": [
      "enter year :  2012\n",
      "months :  12\n"
     ]
    },
    {
     "name": "stdout",
     "output_type": "stream",
     "text": [
      "Total months in year :  31\n"
     ]
    }
   ],
   "source": [
    "months = [31, 28, 31, 30, 31, 30, 31, 31, 30, 31, 30, 31]\n",
    "year = int(input('enter year : '))\n",
    "mon = int(input('months : '))\n",
    "\n",
    "if (mon == 2 and ((year%4 == 0) and ((year%100 != 0) or (year%400 != 0)))):\n",
    "    print('Total months in year : ',months[mon-1]+1)\n",
    "\n",
    "else:\n",
    "    print('Total months in year : ',months[mon-1])"
   ]
  },
  {
   "cell_type": "code",
   "execution_count": null,
   "id": "5bb9de5e-0195-4a11-834f-585ecfd95709",
   "metadata": {},
   "outputs": [],
   "source": []
  }
 ],
 "metadata": {
  "kernelspec": {
   "display_name": "Python 3 (ipykernel)",
   "language": "python",
   "name": "python3"
  },
  "language_info": {
   "codemirror_mode": {
    "name": "ipython",
    "version": 3
   },
   "file_extension": ".py",
   "mimetype": "text/x-python",
   "name": "python",
   "nbconvert_exporter": "python",
   "pygments_lexer": "ipython3",
   "version": "3.13.3"
  }
 },
 "nbformat": 4,
 "nbformat_minor": 5
}
