{
 "cells": [
  {
   "cell_type": "code",
   "execution_count": 18,
   "id": "27a088aa-fbfc-434a-ad32-bf7b49373f7c",
   "metadata": {},
   "outputs": [
    {
     "name": "stdin",
     "output_type": "stream",
     "text": [
      "enter numerator and denominator :  1 3\n",
      "enter numerator and denominator :  3 9\n"
     ]
    },
    {
     "name": "stdout",
     "output_type": "stream",
     "text": [
      "Answer is 6 / 3\n"
     ]
    }
   ],
   "source": [
    "#doubt\n",
    "def findGCD(n1, n2):\n",
    "    gcd = 0\n",
    "    for i in range(1, int(min(n1, n2))+1):\n",
    "        if n1%i == 0 and n2%i == 0:\n",
    "            gcd = i\n",
    "\n",
    "    return gcd\n",
    "    \n",
    "n1, d1 = map(int, list(input('enter numerator and denominator : ').split(' ')))\n",
    "n2, d2 = map(int, list(input('enter numerator and denominator : ').split(' ')))\n",
    "\n",
    "lcm = (d1*d2) // findGCD(d1, d2)\n",
    "sm = (n1*lcm//d1) + (n2*lcm//d2)\n",
    "num3 = sm // findGCD(sm, lcm)\n",
    "lcm = lcm // findGCD(sm, lcm)\n",
    "\n",
    "print(f'Answer is {sm} / {lcm}')\n",
    "\n"
   ]
  },
  {
   "cell_type": "code",
   "execution_count": null,
   "id": "2040c399-efce-4aa9-8795-3751b4283901",
   "metadata": {},
   "outputs": [],
   "source": [
    "def findGCD(n1, n2):\n",
    "    gcd = 0\n",
    "    for i in range(1, int(min(n1, n2)) + 1):\n",
    "        if n1 % i == 0 and n2 % i == 0:\n",
    "            gcd = i\n",
    "    return gcd\n",
    "\n",
    "\n",
    "# input first fraction\n",
    "num1, den1 = map(int, list(input(\"Enter numerator and denominator of first number : \").split(\" \")))\n",
    "\n",
    "# input first fraction\n",
    "num2, den2 = map(int, list(input(\"Enter numerator and denominator of second number: \").split(\" \")))\n",
    "\n",
    "lcm = (den1 * den2) // findGCD(den1, den2)\n",
    "\n",
    "sum = (num1 * lcm // den1) + (num2 * lcm // den2)\n",
    "\n",
    "num3 = sum // findGCD(sum, lcm)\n",
    "\n",
    "lcm = lcm // findGCD(sum, lcm)\n",
    "\n",
    "print(num1, \"/\", den1, \" + \", num2, \"/\", den2, \" = \", num3, \"/\", lcm)"
   ]
  }
 ],
 "metadata": {
  "kernelspec": {
   "display_name": "Python 3 (ipykernel)",
   "language": "python",
   "name": "python3"
  },
  "language_info": {
   "codemirror_mode": {
    "name": "ipython",
    "version": 3
   },
   "file_extension": ".py",
   "mimetype": "text/x-python",
   "name": "python",
   "nbconvert_exporter": "python",
   "pygments_lexer": "ipython3",
   "version": "3.13.3"
  }
 },
 "nbformat": 4,
 "nbformat_minor": 5
}
