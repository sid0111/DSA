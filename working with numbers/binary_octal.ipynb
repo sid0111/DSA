{
 "cells": [
  {
   "cell_type": "code",
   "execution_count": null,
   "id": "884f5986-9b09-4596-8b4c-56023e5a57b4",
   "metadata": {},
   "outputs": [],
   "source": [
    "#my approach : not analysed fix is required\n",
    "binary = int(input('binary : '))\n",
    "i = 1\n",
    "base = 1\n",
    "octal = []\n",
    "temp = []\n",
    "\n",
    "while binary>0:\n",
    "  \n",
    "    if(i>=3):\n",
    "        rem = binary%10\n",
    "        n = rem**base\n",
    "        temp.append(n)\n",
    "        base = base*2\n",
    "        i+=1\n",
    "        binary//=10\n",
    "    else:\n",
    "        i = 0\n",
    "        octal.append(sum(temp))\n",
    "        temp = []"
   ]
  },
  {
   "cell_type": "code",
   "execution_count": 4,
   "id": "2a06b5fc-1022-4de5-94eb-993a4415f759",
   "metadata": {},
   "outputs": [
    {
     "name": "stdin",
     "output_type": "stream",
     "text": [
      "binary :  1010\n"
     ]
    },
    {
     "name": "stdout",
     "output_type": "stream",
     "text": [
      "12"
     ]
    }
   ],
   "source": [
    "binary = int(input('binary : '))\n",
    "\n",
    "octal = [0]*32\n",
    "pos = 0\n",
    "count = 1\n",
    "octal_dig = 0\n",
    "i = 0\n",
    "\n",
    "while binary>0:\n",
    "    rem = binary%10\n",
    "    octal_dig = octal_dig + rem*pow(2,i)\n",
    "    i+=1\n",
    "    binary//=10\n",
    "\n",
    "    octal[pos] = octal_dig\n",
    "\n",
    "    if(count%3==0):\n",
    "        i = 0\n",
    "        octal_dig = 0\n",
    "        pos +=1\n",
    "    count+=1\n",
    "\n",
    "for i in range(pos,-1,-1):\n",
    "    print(octal[i],end='')\n"
   ]
  },
  {
   "cell_type": "code",
   "execution_count": null,
   "id": "bc5d69c6-53cd-4c5b-b3e5-79aceee34efb",
   "metadata": {},
   "outputs": [],
   "source": []
  }
 ],
 "metadata": {
  "kernelspec": {
   "display_name": "Python 3 (ipykernel)",
   "language": "python",
   "name": "python3"
  },
  "language_info": {
   "codemirror_mode": {
    "name": "ipython",
    "version": 3
   },
   "file_extension": ".py",
   "mimetype": "text/x-python",
   "name": "python",
   "nbconvert_exporter": "python",
   "pygments_lexer": "ipython3",
   "version": "3.13.3"
  }
 },
 "nbformat": 4,
 "nbformat_minor": 5
}
