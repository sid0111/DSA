{
 "cells": [
  {
   "cell_type": "code",
   "execution_count": 1,
   "id": "1277dc45-4ac8-45d6-8702-55e03e640025",
   "metadata": {},
   "outputs": [
    {
     "name": "stdin",
     "output_type": "stream",
     "text": [
      "number :  1234\n"
     ]
    },
    {
     "data": {
      "text/plain": [
       "4321"
      ]
     },
     "execution_count": 1,
     "metadata": {},
     "output_type": "execute_result"
    }
   ],
   "source": [
    "num = int(input('number : '))\n",
    "rev = 0\n",
    "\n",
    "while num>0:\n",
    "    rem = num%10\n",
    "    rev = rev*10 + rem\n",
    "    num //=10\n",
    "\n",
    "rev"
   ]
  },
  {
   "cell_type": "code",
   "execution_count": 6,
   "id": "5af4333b-6768-4e0d-9130-64e73b68e9b8",
   "metadata": {},
   "outputs": [
    {
     "name": "stdin",
     "output_type": "stream",
     "text": [
      "number :  123\n"
     ]
    },
    {
     "data": {
      "text/plain": [
       "321"
      ]
     },
     "execution_count": 6,
     "metadata": {},
     "output_type": "execute_result"
    }
   ],
   "source": [
    "num = int(input('number : '))\n",
    "\n",
    "def rev_num(num, rev):\n",
    "    if num==0:\n",
    "        return rev\n",
    "\n",
    "    rem = num%10\n",
    "    rev = rev*10 + rem\n",
    "    return rev_num(num//10, rev)\n",
    "\n",
    "\n",
    "rev_num(num, 0)"
   ]
  }
 ],
 "metadata": {
  "kernelspec": {
   "display_name": "Python 3 (ipykernel)",
   "language": "python",
   "name": "python3"
  },
  "language_info": {
   "codemirror_mode": {
    "name": "ipython",
    "version": 3
   },
   "file_extension": ".py",
   "mimetype": "text/x-python",
   "name": "python",
   "nbconvert_exporter": "python",
   "pygments_lexer": "ipython3",
   "version": "3.13.3"
  }
 },
 "nbformat": 4,
 "nbformat_minor": 5
}
