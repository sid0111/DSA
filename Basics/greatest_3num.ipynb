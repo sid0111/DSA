{
 "cells": [
  {
   "cell_type": "code",
   "execution_count": 2,
   "id": "217a71bc-2f3b-4cc9-a651-5a08d2011c6e",
   "metadata": {},
   "outputs": [
    {
     "name": "stdout",
     "output_type": "stream",
     "text": [
      "2\n"
     ]
    }
   ],
   "source": [
    "n1 = 2\n",
    "n2 = 0\n",
    "n3 = 1\n",
    "\n",
    "if(n1>n2 and n1>n3):\n",
    "    print(n1)\n",
    "elif(n2>n3 and n2>n1):\n",
    "    print(n2)\n",
    "else:\n",
    "    print(n3)"
   ]
  },
  {
   "cell_type": "code",
   "execution_count": 3,
   "id": "4c5edf8e-dfa7-4bd5-bb83-cadd7adf35a3",
   "metadata": {},
   "outputs": [
    {
     "name": "stdout",
     "output_type": "stream",
     "text": [
      "2\n"
     ]
    }
   ],
   "source": [
    "print(max(n1, n2, n3))"
   ]
  },
  {
   "cell_type": "code",
   "execution_count": 4,
   "id": "3e3f8744-b5eb-4aa1-aadf-487c4bb3c98b",
   "metadata": {},
   "outputs": [
    {
     "name": "stdout",
     "output_type": "stream",
     "text": [
      "2\n"
     ]
    }
   ],
   "source": [
    "max = n1 if n1>n2 else n2\n",
    "max = m3 if n3>max else max\n",
    "\n",
    "print(max)"
   ]
  },
  {
   "cell_type": "code",
   "execution_count": null,
   "id": "ee92d00a-a4e5-4d7e-83ec-cc7abefbbfc3",
   "metadata": {},
   "outputs": [],
   "source": []
  }
 ],
 "metadata": {
  "kernelspec": {
   "display_name": "Python 3 (ipykernel)",
   "language": "python",
   "name": "python3"
  },
  "language_info": {
   "codemirror_mode": {
    "name": "ipython",
    "version": 3
   },
   "file_extension": ".py",
   "mimetype": "text/x-python",
   "name": "python",
   "nbconvert_exporter": "python",
   "pygments_lexer": "ipython3",
   "version": "3.13.3"
  }
 },
 "nbformat": 4,
 "nbformat_minor": 5
}
