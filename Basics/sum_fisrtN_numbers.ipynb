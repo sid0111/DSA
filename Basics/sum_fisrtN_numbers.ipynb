{
 "cells": [
  {
   "cell_type": "code",
   "execution_count": 1,
   "id": "b60dd2de-ab49-407c-a9d0-1f0f4f659ca6",
   "metadata": {},
   "outputs": [
    {
     "name": "stdin",
     "output_type": "stream",
     "text": [
      "number :  8\n"
     ]
    },
    {
     "name": "stdout",
     "output_type": "stream",
     "text": [
      "36\n"
     ]
    }
   ],
   "source": [
    "n = int (input('number : '))\n",
    "sum = 0\n",
    "\n",
    "for i in range(1, n+1):\n",
    "    sum+=i\n",
    "\n",
    "print(sum)"
   ]
  },
  {
   "cell_type": "code",
   "execution_count": 2,
   "id": "778b64fd-e920-4373-83f0-a811833d0fb1",
   "metadata": {},
   "outputs": [
    {
     "name": "stdin",
     "output_type": "stream",
     "text": [
      "number :  8\n"
     ]
    },
    {
     "name": "stdout",
     "output_type": "stream",
     "text": [
      "36.0\n"
     ]
    }
   ],
   "source": [
    "n = int(input('number : '))\n",
    "\n",
    "print((n*(n+1))/2)"
   ]
  },
  {
   "cell_type": "code",
   "execution_count": 3,
   "id": "d5b95fc4-7bad-4f41-9136-e5fb4e32d58b",
   "metadata": {},
   "outputs": [
    {
     "name": "stdin",
     "output_type": "stream",
     "text": [
      "number :  4\n"
     ]
    },
    {
     "name": "stdout",
     "output_type": "stream",
     "text": [
      "10\n"
     ]
    }
   ],
   "source": [
    "n = int(input('number : '))\n",
    "\n",
    "print(int((n*(n+1))/2))"
   ]
  },
  {
   "cell_type": "code",
   "execution_count": 5,
   "id": "a4a9f7df-b710-486b-80c6-c9d57c0da24c",
   "metadata": {},
   "outputs": [
    {
     "name": "stdin",
     "output_type": "stream",
     "text": [
      "number :  8\n"
     ]
    },
    {
     "name": "stdout",
     "output_type": "stream",
     "text": [
      "36\n"
     ]
    }
   ],
   "source": [
    "#using recursion\n",
    "\n",
    "n = int(input('number : '))\n",
    "\n",
    "def sumN(n):\n",
    "    if(n==1):  #base condition\n",
    "        return 1\n",
    "    return n + sumN(n-1)\n",
    "    \n",
    "print(sumN(n))"
   ]
  },
  {
   "cell_type": "markdown",
   "id": "c15edc1e-c8bb-49f5-ae7b-0eef15d269b5",
   "metadata": {},
   "source": [
    "8 + s(7)\n",
    "7 + s(6)\n",
    "6 + s(5)\n",
    "5 + s(4)\n",
    "4 + s(3)\n",
    "3 + s(2)\n",
    "2 + s(1) #s(1) will return 1"
   ]
  }
 ],
 "metadata": {
  "kernelspec": {
   "display_name": "Python 3 (ipykernel)",
   "language": "python",
   "name": "python3"
  },
  "language_info": {
   "codemirror_mode": {
    "name": "ipython",
    "version": 3
   },
   "file_extension": ".py",
   "mimetype": "text/x-python",
   "name": "python",
   "nbconvert_exporter": "python",
   "pygments_lexer": "ipython3",
   "version": "3.13.3"
  }
 },
 "nbformat": 4,
 "nbformat_minor": 5
}
