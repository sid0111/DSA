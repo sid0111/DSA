{
 "cells": [
  {
   "cell_type": "code",
   "execution_count": 4,
   "id": "acdccc8e-b20f-4189-88d0-95e1d4d286d0",
   "metadata": {},
   "outputs": [
    {
     "name": "stdin",
     "output_type": "stream",
     "text": [
      "num :  5\n",
      "power :  2\n"
     ]
    },
    {
     "data": {
      "text/plain": [
       "25"
      ]
     },
     "execution_count": 4,
     "metadata": {},
     "output_type": "execute_result"
    }
   ],
   "source": [
    "num = int(input('num : '))\n",
    "powr = int(input('power : '))\n",
    "\n",
    "def pow_func(num, powr):\n",
    "    if powr<1:\n",
    "        return 1\n",
    "\n",
    "    return num * pow_func(num, powr-1)\n",
    "\n",
    "pow_func(num, powr)"
   ]
  },
  {
   "cell_type": "code",
   "execution_count": null,
   "id": "632ead6a-d751-4019-a72d-fcf06df9b7c4",
   "metadata": {},
   "outputs": [],
   "source": []
  }
 ],
 "metadata": {
  "kernelspec": {
   "display_name": "Python 3 (ipykernel)",
   "language": "python",
   "name": "python3"
  },
  "language_info": {
   "codemirror_mode": {
    "name": "ipython",
    "version": 3
   },
   "file_extension": ".py",
   "mimetype": "text/x-python",
   "name": "python",
   "nbconvert_exporter": "python",
   "pygments_lexer": "ipython3",
   "version": "3.13.3"
  }
 },
 "nbformat": 4,
 "nbformat_minor": 5
}
