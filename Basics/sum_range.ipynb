{
 "cells": [
  {
   "cell_type": "code",
   "execution_count": 1,
   "id": "f739210c-94cc-492b-962b-0617cb06f7f9",
   "metadata": {},
   "outputs": [
    {
     "name": "stdout",
     "output_type": "stream",
     "text": [
      "30\n"
     ]
    }
   ],
   "source": [
    "s, e, sum = 4, 8, 0\n",
    "\n",
    "for i in range(s, e+1):\n",
    "    sum+=i\n",
    "\n",
    "print(sum)"
   ]
  },
  {
   "cell_type": "code",
   "execution_count": 5,
   "id": "b4834bab-9364-4fd9-a0fc-e04e50d8c251",
   "metadata": {},
   "outputs": [
    {
     "name": "stdout",
     "output_type": "stream",
     "text": [
      "18\n"
     ]
    }
   ],
   "source": [
    "s, e = 3, 6\n",
    "\n",
    "def sumRange(e):\n",
    "    if(e==s):\n",
    "        return s\n",
    "    return e + sumRange(e-1)\n",
    "\n",
    "print(sumRange(e))"
   ]
  },
  {
   "cell_type": "code",
   "execution_count": 9,
   "id": "12ab4add-04b1-4a87-b85a-f19d866b470d",
   "metadata": {},
   "outputs": [
    {
     "name": "stdout",
     "output_type": "stream",
     "text": [
      "18\n"
     ]
    }
   ],
   "source": [
    "s, e = 3, 6\n",
    "\n",
    "s = int(((e*(e+1))/2) - ((s*(s+1))/2) + (s))\n",
    "print(s)"
   ]
  },
  {
   "cell_type": "code",
   "execution_count": null,
   "id": "d67dd3fa-82cb-48ae-b62f-dd68079d4fb1",
   "metadata": {},
   "outputs": [],
   "source": []
  }
 ],
 "metadata": {
  "kernelspec": {
   "display_name": "Python 3 (ipykernel)",
   "language": "python",
   "name": "python3"
  },
  "language_info": {
   "codemirror_mode": {
    "name": "ipython",
    "version": 3
   },
   "file_extension": ".py",
   "mimetype": "text/x-python",
   "name": "python",
   "nbconvert_exporter": "python",
   "pygments_lexer": "ipython3",
   "version": "3.13.3"
  }
 },
 "nbformat": 4,
 "nbformat_minor": 5
}
