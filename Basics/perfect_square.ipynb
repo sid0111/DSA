{
 "cells": [
  {
   "cell_type": "code",
   "execution_count": 6,
   "id": "e05f30df-4318-4fb4-be32-0a59a72d9ccc",
   "metadata": {},
   "outputs": [
    {
     "name": "stdin",
     "output_type": "stream",
     "text": [
      "number :  84\n"
     ]
    },
    {
     "name": "stdout",
     "output_type": "stream",
     "text": [
      "Not a perfect square\n"
     ]
    }
   ],
   "source": [
    "num = int(input('number : '))\n",
    "\n",
    "sn = int(num**0.5)\n",
    "\n",
    "if(sn*sn == num):\n",
    "    print('Perfect Square')\n",
    "else:\n",
    "    print('Not a perfect square')"
   ]
  },
  {
   "cell_type": "code",
   "execution_count": null,
   "id": "aebebdec-d5a7-4691-b56e-5a412dcfaf45",
   "metadata": {},
   "outputs": [],
   "source": []
  }
 ],
 "metadata": {
  "kernelspec": {
   "display_name": "Python 3 (ipykernel)",
   "language": "python",
   "name": "python3"
  },
  "language_info": {
   "codemirror_mode": {
    "name": "ipython",
    "version": 3
   },
   "file_extension": ".py",
   "mimetype": "text/x-python",
   "name": "python",
   "nbconvert_exporter": "python",
   "pygments_lexer": "ipython3",
   "version": "3.13.3"
  }
 },
 "nbformat": 4,
 "nbformat_minor": 5
}
