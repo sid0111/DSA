{
 "cells": [
  {
   "cell_type": "code",
   "execution_count": 21,
   "id": "b7c975f2-3f9e-4b20-8957-0c0f7a399f4d",
   "metadata": {},
   "outputs": [
    {
     "name": "stdin",
     "output_type": "stream",
     "text": [
      "number :  23\n"
     ]
    },
    {
     "name": "stdout",
     "output_type": "stream",
     "text": [
      "prime\n"
     ]
    }
   ],
   "source": [
    "num = int(input('number : '))\n",
    "flag = 0\n",
    "\n",
    "if num<2:\n",
    "    flag = 1\n",
    "else:\n",
    "    for i in range(2, num):\n",
    "        if num%i==0:\n",
    "            flag = 1\n",
    "            break\n",
    "            \n",
    "if(flag == 1):\n",
    "    print('not prime')\n",
    "else:\n",
    "    print('prime')"
   ]
  },
  {
   "cell_type": "code",
   "execution_count": 22,
   "id": "2a2d5ebe-b6eb-42de-b96c-622db7dd56da",
   "metadata": {},
   "outputs": [
    {
     "name": "stdin",
     "output_type": "stream",
     "text": [
      "number :  3\n"
     ]
    },
    {
     "name": "stdout",
     "output_type": "stream",
     "text": [
      "prime\n"
     ]
    }
   ],
   "source": [
    "#optimization reducing T.C. to half\n",
    "num = int(input('number : '))\n",
    "flag = 0\n",
    "\n",
    "if num<2:\n",
    "    flag = 1\n",
    "else:\n",
    "    for i in range(2, int((num/2)+1)):\n",
    "        if num%i==0:\n",
    "            flag = 1\n",
    "            break\n",
    "            \n",
    "if(flag == 1):\n",
    "    print('not prime')\n",
    "else:\n",
    "    print('prime')"
   ]
  },
  {
   "cell_type": "code",
   "execution_count": 26,
   "id": "1fc41754-62ac-4cd3-9ba9-d144765a9a61",
   "metadata": {},
   "outputs": [
    {
     "name": "stdin",
     "output_type": "stream",
     "text": [
      "Enter number :  43\n"
     ]
    },
    {
     "name": "stdout",
     "output_type": "stream",
     "text": [
      "prime\n"
     ]
    }
   ],
   "source": [
    "#optimization reducing T.C. to sqaure root times\n",
    "num = int(input('Enter number : '))\n",
    "flag = 0\n",
    "\n",
    "if num<2:\n",
    "    flag = 1\n",
    "else:\n",
    "    for i in range(2, int(pow(num,0.5)+1)):\n",
    "        if(num%i == 0):\n",
    "            flag = 1\n",
    "            break\n",
    "\n",
    "if(flag == 0):\n",
    "    print('prime')\n",
    "else:\n",
    "    print('not prime')\n",
    "        "
   ]
  },
  {
   "cell_type": "code",
   "execution_count": 28,
   "id": "8964e7a3-771c-481e-bcf2-c44a8c4d6168",
   "metadata": {},
   "outputs": [
    {
     "name": "stdin",
     "output_type": "stream",
     "text": [
      "Enter number :  53\n"
     ]
    },
    {
     "name": "stdout",
     "output_type": "stream",
     "text": [
      "prime\n"
     ]
    }
   ],
   "source": [
    "#optimization by skiping even iteration\n",
    "num = int(input('Enter number : '))\n",
    "flag = 0\n",
    "\n",
    "if num<2:\n",
    "    flag = 1\n",
    "else:\n",
    "    for i in range(2, int(pow(num,0.5)+1), 2):\n",
    "        if(num%i == 0):\n",
    "            flag = 1\n",
    "            break\n",
    "\n",
    "if(flag == 0):\n",
    "    print('prime')\n",
    "else:\n",
    "    print('not prime')\n",
    "        "
   ]
  },
  {
   "cell_type": "code",
   "execution_count": null,
   "id": "4532cce5-8cb0-449c-acc2-720a7353966a",
   "metadata": {},
   "outputs": [],
   "source": []
  }
 ],
 "metadata": {
  "kernelspec": {
   "display_name": "Python 3 (ipykernel)",
   "language": "python",
   "name": "python3"
  },
  "language_info": {
   "codemirror_mode": {
    "name": "ipython",
    "version": 3
   },
   "file_extension": ".py",
   "mimetype": "text/x-python",
   "name": "python",
   "nbconvert_exporter": "python",
   "pygments_lexer": "ipython3",
   "version": "3.13.3"
  }
 },
 "nbformat": 4,
 "nbformat_minor": 5
}
