{
 "cells": [
  {
   "cell_type": "code",
   "execution_count": 7,
   "id": "364d07f4-9114-4c01-b955-573e867db770",
   "metadata": {},
   "outputs": [
    {
     "name": "stdin",
     "output_type": "stream",
     "text": [
      "number :  10\n"
     ]
    },
    {
     "name": "stdout",
     "output_type": "stream",
     "text": [
      "FIbonacii series : 0 1 1 2 3 5 8 13 21 34 "
     ]
    }
   ],
   "source": [
    "num = int(input('number : '))\n",
    "f = 0\n",
    "s = 1\n",
    "print(f'FIbonacii series : {f} {s}', end = \" \" )\n",
    "for i in range(2, num):\n",
    "    th = f+s\n",
    "    f = s\n",
    "    s = th\n",
    "    print(th,end = \" \")"
   ]
  },
  {
   "cell_type": "code",
   "execution_count": 8,
   "id": "ee5238e9-ed60-455e-9e2e-ef0bd5b3f4fb",
   "metadata": {},
   "outputs": [
    {
     "name": "stdin",
     "output_type": "stream",
     "text": [
      "number :  10\n"
     ]
    },
    {
     "name": "stdout",
     "output_type": "stream",
     "text": [
      "0\n",
      "1\n",
      "1\n",
      "2\n",
      "3\n",
      "5\n",
      "8\n",
      "13\n",
      "21\n",
      "34\n"
     ]
    }
   ],
   "source": [
    "#recursive function\n",
    "\n",
    "num = int(input('number : '))\n",
    "\n",
    "def fibo_series(i):\n",
    "    if i<=1:\n",
    "        return i\n",
    "    else:\n",
    "        return (fibo_series(i-1) + fibo_series(i-2))\n",
    "\n",
    "\n",
    "for i in range(0, num):\n",
    "    print(fibo_series(i))"
   ]
  },
  {
   "cell_type": "code",
   "execution_count": null,
   "id": "311cfbcd-9ce3-4ed3-bb93-6c33863eb61e",
   "metadata": {},
   "outputs": [],
   "source": []
  }
 ],
 "metadata": {
  "kernelspec": {
   "display_name": "Python 3 (ipykernel)",
   "language": "python",
   "name": "python3"
  },
  "language_info": {
   "codemirror_mode": {
    "name": "ipython",
    "version": 3
   },
   "file_extension": ".py",
   "mimetype": "text/x-python",
   "name": "python",
   "nbconvert_exporter": "python",
   "pygments_lexer": "ipython3",
   "version": "3.13.3"
  }
 },
 "nbformat": 4,
 "nbformat_minor": 5
}
