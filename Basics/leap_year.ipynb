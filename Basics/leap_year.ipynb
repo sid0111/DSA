{
 "cells": [
  {
   "cell_type": "code",
   "execution_count": 2,
   "id": "88104255-2c74-4511-b3a7-aa866380c76e",
   "metadata": {},
   "outputs": [
    {
     "name": "stdin",
     "output_type": "stream",
     "text": [
      "year :  2020\n"
     ]
    },
    {
     "name": "stdout",
     "output_type": "stream",
     "text": [
      "leap\n"
     ]
    }
   ],
   "source": [
    "yr = int(input('year : '))\n",
    "\n",
    "if(yr%4==0 and yr!=100 or yr%400==0):\n",
    "    print('leap')\n",
    "else:\n",
    "    print('not  aleap year')"
   ]
  },
  {
   "cell_type": "code",
   "execution_count": 7,
   "id": "d09f2407-c65f-4dcb-a943-100bb29b8c91",
   "metadata": {},
   "outputs": [
    {
     "name": "stdin",
     "output_type": "stream",
     "text": [
      "year :  2024\n"
     ]
    },
    {
     "name": "stdout",
     "output_type": "stream",
     "text": [
      "leap\n"
     ]
    }
   ],
   "source": [
    "yr = int(input('year : '))\n",
    "\n",
    "def isLeap(yr):\n",
    "    return True if (yr%4==0 and yr!=100) or yr%400==0 else False\n",
    "\n",
    "if isLeap(yr):\n",
    "    print('leap')\n",
    "else:\n",
    "    print('not a leap')"
   ]
  },
  {
   "cell_type": "markdown",
   "id": "23bed56e-b5ff-4583-8743-ed116c41be03",
   "metadata": {},
   "source": [
    "### using calender module"
   ]
  },
  {
   "cell_type": "code",
   "execution_count": 9,
   "id": "e5bb3f2a-5145-425f-9b40-40f8f0c8c4ac",
   "metadata": {},
   "outputs": [
    {
     "name": "stdin",
     "output_type": "stream",
     "text": [
      "year :  2021\n"
     ]
    },
    {
     "name": "stdout",
     "output_type": "stream",
     "text": [
      "not a leap\n"
     ]
    }
   ],
   "source": [
    "import calendar\n",
    "\n",
    "yr = int(input('year : '))\n",
    "\n",
    "def isLeap(yr):\n",
    "    return calendar.isleap(yr)\n",
    "\n",
    "if(isLeap(yr)):\n",
    "    print('leap')\n",
    "else:\n",
    "    print('not a leap')"
   ]
  },
  {
   "cell_type": "code",
   "execution_count": 10,
   "id": "a5ad64a1-cf78-464a-bd42-d0f0a410593c",
   "metadata": {},
   "outputs": [
    {
     "name": "stdin",
     "output_type": "stream",
     "text": [
      "year :  2021\n"
     ]
    },
    {
     "name": "stdout",
     "output_type": "stream",
     "text": [
      "not a leap\n"
     ]
    }
   ],
   "source": [
    "isLeap = lambda yr : True if (yr%4==0 and yr!=100) or yr%400 == 0 else False\n",
    "\n",
    "yr = int(input('year : '))\n",
    "\n",
    "if(isLeap(yr)):\n",
    "    print('leap')\n",
    "else:\n",
    "    print('not a leap')"
   ]
  },
  {
   "cell_type": "code",
   "execution_count": null,
   "id": "42b43596-644a-4090-8431-621351439e64",
   "metadata": {},
   "outputs": [],
   "source": []
  }
 ],
 "metadata": {
  "kernelspec": {
   "display_name": "Python 3 (ipykernel)",
   "language": "python",
   "name": "python3"
  },
  "language_info": {
   "codemirror_mode": {
    "name": "ipython",
    "version": 3
   },
   "file_extension": ".py",
   "mimetype": "text/x-python",
   "name": "python",
   "nbconvert_exporter": "python",
   "pygments_lexer": "ipython3",
   "version": "3.13.3"
  }
 },
 "nbformat": 4,
 "nbformat_minor": 5
}
