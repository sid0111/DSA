{
 "cells": [
  {
   "cell_type": "code",
   "execution_count": 7,
   "id": "f2d6d15b-04ef-4ce8-ba02-877479605f5b",
   "metadata": {},
   "outputs": [
    {
     "name": "stdin",
     "output_type": "stream",
     "text": [
      "number :  497\n"
     ]
    },
    {
     "name": "stdout",
     "output_type": "stream",
     "text": [
      "Not a perfect number\n"
     ]
    }
   ],
   "source": [
    "num = int(input('number : '))\n",
    "divisors = []\n",
    "sm =  0\n",
    "for i in range(1, num//2+1):\n",
    "    if(num%i==0):\n",
    "        divisors.append(i)\n",
    "        sm += i\n",
    "\n",
    "if(num == sm):\n",
    "    print('Perfect Number')\n",
    "else:\n",
    "    print('Not a perfect number')"
   ]
  },
  {
   "cell_type": "code",
   "execution_count": 11,
   "id": "30a477d7-af35-414c-bf3a-09093f004763",
   "metadata": {},
   "outputs": [
    {
     "name": "stdin",
     "output_type": "stream",
     "text": [
      "number :  496\n"
     ]
    },
    {
     "name": "stdout",
     "output_type": "stream",
     "text": [
      "perfect number\n"
     ]
    }
   ],
   "source": [
    "#recursion\n",
    "\n",
    "num = int(input('number : '))\n",
    "sm = 0\n",
    "        \n",
    "def perfect_num(num, i):\n",
    "    global sm\n",
    "\n",
    "    if i<= num//2:\n",
    "        if num%i == 0:\n",
    "            sm+=i\n",
    "        \n",
    "        i+=1\n",
    "        perfect_num(num, i)\n",
    "        \n",
    "    return sm\n",
    "\n",
    "if perfect_num(num, 1)== num:\n",
    "    print('perfect number')\n",
    "else:\n",
    "    print('not perfect number')"
   ]
  },
  {
   "cell_type": "code",
   "execution_count": null,
   "id": "01bb9f8c-2b76-4766-97e0-e12ea334cb28",
   "metadata": {},
   "outputs": [],
   "source": []
  }
 ],
 "metadata": {
  "kernelspec": {
   "display_name": "Python 3 (ipykernel)",
   "language": "python",
   "name": "python3"
  },
  "language_info": {
   "codemirror_mode": {
    "name": "ipython",
    "version": 3
   },
   "file_extension": ".py",
   "mimetype": "text/x-python",
   "name": "python",
   "nbconvert_exporter": "python",
   "pygments_lexer": "ipython3",
   "version": "3.13.3"
  }
 },
 "nbformat": 4,
 "nbformat_minor": 5
}
