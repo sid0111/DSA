{
 "cells": [
  {
   "cell_type": "code",
   "execution_count": 3,
   "id": "a2dc932c-b224-48ee-93b8-6eee08e664cb",
   "metadata": {},
   "outputs": [
    {
     "name": "stdin",
     "output_type": "stream",
     "text": [
      "Enter number :  234\n"
     ]
    },
    {
     "name": "stdout",
     "output_type": "stream",
     "text": [
      "Number is Positive\n"
     ]
    }
   ],
   "source": [
    "#my approach\n",
    "n = int(input('Enter number : '))\n",
    "\n",
    "if n>0:\n",
    "    print('Number is Positive')\n",
    "else:\n",
    "    print('Number is negative')"
   ]
  },
  {
   "cell_type": "markdown",
   "id": "b30ae521-5d53-4066-abd3-e657a0a961de",
   "metadata": {},
   "source": [
    "- check for zero also"
   ]
  },
  {
   "cell_type": "code",
   "execution_count": 5,
   "id": "224b3d23-6804-47d9-a1d1-bbb58df54a86",
   "metadata": {},
   "outputs": [
    {
     "name": "stdin",
     "output_type": "stream",
     "text": [
      "Enter number :  0\n"
     ]
    },
    {
     "name": "stdout",
     "output_type": "stream",
     "text": [
      "zero\n"
     ]
    }
   ],
   "source": [
    "num = int(input('Enter number : '))\n",
    "\n",
    "if num>0:\n",
    "    print('positive')\n",
    "elif num<0:\n",
    "    print('negative')\n",
    "else:\n",
    "    print('zero')"
   ]
  },
  {
   "cell_type": "code",
   "execution_count": 6,
   "id": "c6cea775-944f-4787-9870-19cc84171737",
   "metadata": {},
   "outputs": [
    {
     "name": "stdout",
     "output_type": "stream",
     "text": [
      "positive\n"
     ]
    }
   ],
   "source": [
    "n = 1\n",
    "\n",
    "if n>= 0:\n",
    "    if n == 0:\n",
    "        print('zero')\n",
    "    else:\n",
    "        print('positive')\n",
    "else:\n",
    "    print('negative')"
   ]
  },
  {
   "cell_type": "code",
   "execution_count": 10,
   "id": "e0e47c2d-b564-450c-b807-1d5bbe1dcdb3",
   "metadata": {},
   "outputs": [
    {
     "name": "stdout",
     "output_type": "stream",
     "text": [
      "negative\n"
     ]
    }
   ],
   "source": [
    "n = -1\n",
    "\n",
    "print('Positive' if n>=0 else 'negative')"
   ]
  },
  {
   "cell_type": "code",
   "execution_count": null,
   "id": "923a6cec-41aa-4002-9aad-d5334ebf4666",
   "metadata": {},
   "outputs": [],
   "source": []
  }
 ],
 "metadata": {
  "kernelspec": {
   "display_name": "Python 3 (ipykernel)",
   "language": "python",
   "name": "python3"
  },
  "language_info": {
   "codemirror_mode": {
    "name": "ipython",
    "version": 3
   },
   "file_extension": ".py",
   "mimetype": "text/x-python",
   "name": "python",
   "nbconvert_exporter": "python",
   "pygments_lexer": "ipython3",
   "version": "3.13.3"
  }
 },
 "nbformat": 4,
 "nbformat_minor": 5
}
