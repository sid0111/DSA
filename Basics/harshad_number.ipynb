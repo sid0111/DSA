{
 "cells": [
  {
   "cell_type": "code",
   "execution_count": 5,
   "id": "5cade947-04bb-400c-81bc-530d42dbba70",
   "metadata": {},
   "outputs": [
    {
     "name": "stdin",
     "output_type": "stream",
     "text": [
      "number :  21\n"
     ]
    },
    {
     "name": "stdout",
     "output_type": "stream",
     "text": [
      "harshad number\n"
     ]
    }
   ],
   "source": [
    "num = int(input('number : '))\n",
    "copy = num\n",
    "sm = 0\n",
    "\n",
    "while copy>0:\n",
    "    rem = copy%10\n",
    "    sm+=rem\n",
    "    copy//=10\n",
    "    \n",
    "if(num%sm == 0):\n",
    "    print('harshad number')\n",
    "else:\n",
    "    print('not a harshad number')"
   ]
  },
  {
   "cell_type": "code",
   "execution_count": null,
   "id": "e53d6e8d-7e76-49e3-8166-d2b27f2beda7",
   "metadata": {},
   "outputs": [],
   "source": []
  }
 ],
 "metadata": {
  "kernelspec": {
   "display_name": "Python 3 (ipykernel)",
   "language": "python",
   "name": "python3"
  },
  "language_info": {
   "codemirror_mode": {
    "name": "ipython",
    "version": 3
   },
   "file_extension": ".py",
   "mimetype": "text/x-python",
   "name": "python",
   "nbconvert_exporter": "python",
   "pygments_lexer": "ipython3",
   "version": "3.13.3"
  }
 },
 "nbformat": 4,
 "nbformat_minor": 5
}
