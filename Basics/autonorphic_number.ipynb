{
 "cells": [
  {
   "cell_type": "code",
   "execution_count": 9,
   "id": "013c9e0d-7409-4532-b3af-a3ee0c363186",
   "metadata": {},
   "outputs": [
    {
     "name": "stdin",
     "output_type": "stream",
     "text": [
      "number :  376\n"
     ]
    },
    {
     "name": "stdout",
     "output_type": "stream",
     "text": [
      "automorphic number\n"
     ]
    }
   ],
   "source": [
    "#brute force\n",
    "num = int(input('number : '))\n",
    "copy = num\n",
    "ln = len(str(num))\n",
    "ln2 = ln\n",
    "rev= 0\n",
    "sqr = num*num\n",
    "rv = 0\n",
    "\n",
    "while ln>0:\n",
    "    rem = copy%10\n",
    "    rev = rev*10+rem\n",
    "    copy//=10\n",
    "    ln-=1\n",
    "\n",
    "while ln2>0:\n",
    "    rem = sqr%10\n",
    "    rv = rv*10+rem\n",
    "    sqr//=10\n",
    "    ln2-=1\n",
    "\n",
    "if(rev == rv):\n",
    "    print('automorphic number')\n",
    "else:\n",
    "    print('not')"
   ]
  },
  {
   "cell_type": "code",
   "execution_count": 12,
   "id": "cf7ff51b-e19c-4ee6-9ae5-e5f47db2b82b",
   "metadata": {},
   "outputs": [
    {
     "name": "stdin",
     "output_type": "stream",
     "text": [
      "number :  377\n"
     ]
    },
    {
     "name": "stdout",
     "output_type": "stream",
     "text": [
      "not automorphic\n"
     ]
    }
   ],
   "source": [
    "num = int(input('number : '))\n",
    "sqr = num*num\n",
    "mod = 10 ** len(str(num))\n",
    "\n",
    "if(num == sqr%mod):\n",
    "    print('automorphic')\n",
    "else:\n",
    "    print('not automorphic')"
   ]
  },
  {
   "cell_type": "code",
   "execution_count": 15,
   "id": "edf74bc2-9522-46c0-8e46-df5b00d4c64d",
   "metadata": {},
   "outputs": [
    {
     "name": "stdout",
     "output_type": "stream",
     "text": [
      "YES\n"
     ]
    }
   ],
   "source": [
    "n = 5\n",
    "n = print('YES' if int(str(n**2)[-len(str(n))::]) == n else 'no')"
   ]
  },
  {
   "cell_type": "markdown",
   "id": "881e1f86-68e9-4f2a-b0cc-a1fb5e491c28",
   "metadata": {},
   "source": [
    "# we can also use endswith() function"
   ]
  },
  {
   "cell_type": "code",
   "execution_count": null,
   "id": "83ae454a-dac8-4a2c-8dbe-0744db7383f2",
   "metadata": {},
   "outputs": [],
   "source": []
  }
 ],
 "metadata": {
  "kernelspec": {
   "display_name": "Python 3 (ipykernel)",
   "language": "python",
   "name": "python3"
  },
  "language_info": {
   "codemirror_mode": {
    "name": "ipython",
    "version": 3
   },
   "file_extension": ".py",
   "mimetype": "text/x-python",
   "name": "python",
   "nbconvert_exporter": "python",
   "pygments_lexer": "ipython3",
   "version": "3.13.3"
  }
 },
 "nbformat": 4,
 "nbformat_minor": 5
}
