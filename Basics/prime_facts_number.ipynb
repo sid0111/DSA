{
 "cells": [
  {
   "cell_type": "code",
   "execution_count": 7,
   "id": "ae783eea-3a75-47b9-be88-5cdcf0aed717",
   "metadata": {},
   "outputs": [
    {
     "name": "stdin",
     "output_type": "stream",
     "text": [
      "number :  30\n"
     ]
    },
    {
     "data": {
      "text/plain": [
       "[2, 3, 5]"
      ]
     },
     "execution_count": 7,
     "metadata": {},
     "output_type": "execute_result"
    }
   ],
   "source": [
    "num = int(input('number : '))\n",
    "\n",
    "def prime_fact(n):\n",
    "    fact = []\n",
    "    i = 2\n",
    "\n",
    "    while i*i <= n:\n",
    "        if n%i==0:\n",
    "            fact.append(i)\n",
    "            n//=i\n",
    "        else:\n",
    "            i+=1\n",
    "    if n>1:\n",
    "        fact.append(n)\n",
    "\n",
    "    return fact\n",
    "\n",
    "prime_fact(num)\n",
    "\n"
   ]
  },
  {
   "cell_type": "code",
   "execution_count": null,
   "id": "25dc6891-9b6e-4fb7-af3f-9e6cd88da824",
   "metadata": {},
   "outputs": [],
   "source": []
  }
 ],
 "metadata": {
  "kernelspec": {
   "display_name": "Python 3 (ipykernel)",
   "language": "python",
   "name": "python3"
  },
  "language_info": {
   "codemirror_mode": {
    "name": "ipython",
    "version": 3
   },
   "file_extension": ".py",
   "mimetype": "text/x-python",
   "name": "python",
   "nbconvert_exporter": "python",
   "pygments_lexer": "ipython3",
   "version": "3.13.3"
  }
 },
 "nbformat": 4,
 "nbformat_minor": 5
}
