{
 "cells": [
  {
   "cell_type": "code",
   "execution_count": 1,
   "id": "5b6be3d8-7285-4ca2-a026-c1f267b95eaf",
   "metadata": {},
   "outputs": [
    {
     "name": "stdin",
     "output_type": "stream",
     "text": [
      "number :  6\n",
      "number :  28\n"
     ]
    },
    {
     "name": "stdout",
     "output_type": "stream",
     "text": [
      "friendly pairs\n"
     ]
    }
   ],
   "source": [
    "num1 = int(input('number : '))\n",
    "sm1 = 0\n",
    "\n",
    "for i in range(1, num1//2+1):\n",
    "    if(num1%i == 0):\n",
    "        sm1+=i\n",
    "\n",
    "num2 = int(input('number : '))\n",
    "sm2 = 0\n",
    "\n",
    "for i in range(1, num2//2+1):\n",
    "    if(num2%i == 0):\n",
    "        sm2+=i\n",
    "\n",
    "if(num1/sm1 == 1 and num2/sm2 == 1):\n",
    "    print('friendly pairs')\n",
    "else:\n",
    "    print('not')"
   ]
  },
  {
   "cell_type": "code",
   "execution_count": 2,
   "id": "53d059ce-6a03-4fd7-918c-0113e3c4e737",
   "metadata": {},
   "outputs": [
    {
     "name": "stdin",
     "output_type": "stream",
     "text": [
      "number :  28\n",
      "number :  6\n"
     ]
    },
    {
     "name": "stdout",
     "output_type": "stream",
     "text": [
      "friendly pairs\n"
     ]
    }
   ],
   "source": [
    "num1 = int(input('number : '))\n",
    "num2 = int(input('number : '))\n",
    "\n",
    "def find_fact_sum(num, sm):\n",
    "    for i in range(1, num//2+1):\n",
    "        if(num%i == 0):\n",
    "            sm+=i\n",
    "\n",
    "    return sm\n",
    "\n",
    "if(find_fact_sum(num1, 0)/num1 == 1 and find_fact_sum(num1, 0)/num1 == 1):\n",
    "    print('friendly pairs')\n",
    "else:\n",
    "    print('not')"
   ]
  },
  {
   "cell_type": "code",
   "execution_count": null,
   "id": "5c6290d7-1e65-4a1f-8363-dc4da77dbee1",
   "metadata": {},
   "outputs": [],
   "source": []
  }
 ],
 "metadata": {
  "kernelspec": {
   "display_name": "Python 3 (ipykernel)",
   "language": "python",
   "name": "python3"
  },
  "language_info": {
   "codemirror_mode": {
    "name": "ipython",
    "version": 3
   },
   "file_extension": ".py",
   "mimetype": "text/x-python",
   "name": "python",
   "nbconvert_exporter": "python",
   "pygments_lexer": "ipython3",
   "version": "3.13.3"
  }
 },
 "nbformat": 4,
 "nbformat_minor": 5
}
