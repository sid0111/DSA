{
 "cells": [
  {
   "cell_type": "code",
   "execution_count": 13,
   "id": "1d85a9a8-9a4a-42c1-8223-b44940005517",
   "metadata": {},
   "outputs": [
    {
     "name": "stdin",
     "output_type": "stream",
     "text": [
      "number :  10\n"
     ]
    },
    {
     "name": "stdout",
     "output_type": "stream",
     "text": [
      "2  \n",
      "5  \n"
     ]
    }
   ],
   "source": [
    "num = int(input('number : '))\n",
    "\n",
    "for i in range(2, num):\n",
    "    if(num%i == 0):\n",
    "        print(i,\" \")"
   ]
  },
  {
   "cell_type": "code",
   "execution_count": 14,
   "id": "f8142e40-78c9-459a-b7c3-e95cc02bca15",
   "metadata": {},
   "outputs": [
    {
     "name": "stdin",
     "output_type": "stream",
     "text": [
      "number :  10\n"
     ]
    },
    {
     "name": "stdout",
     "output_type": "stream",
     "text": [
      "1 10 2 5 "
     ]
    }
   ],
   "source": [
    "import math\n",
    "\n",
    "num = int(input('number : '))\n",
    "\n",
    "for i in range(1, int(math.sqrt(num))):\n",
    "    if(num%i == 0):\n",
    "        if(num/i == i):\n",
    "            print(i, end = \" \")\n",
    "        else:\n",
    "            print(i, int(num/i), end = \" \") "
   ]
  },
  {
   "cell_type": "code",
   "execution_count": null,
   "id": "dd90f431-6472-4d73-9e3a-3438b37adca7",
   "metadata": {},
   "outputs": [],
   "source": []
  }
 ],
 "metadata": {
  "kernelspec": {
   "display_name": "Python 3 (ipykernel)",
   "language": "python",
   "name": "python3"
  },
  "language_info": {
   "codemirror_mode": {
    "name": "ipython",
    "version": 3
   },
   "file_extension": ".py",
   "mimetype": "text/x-python",
   "name": "python",
   "nbconvert_exporter": "python",
   "pygments_lexer": "ipython3",
   "version": "3.13.3"
  }
 },
 "nbformat": 4,
 "nbformat_minor": 5
}
