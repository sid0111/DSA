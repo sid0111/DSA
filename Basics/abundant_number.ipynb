{
 "cells": [
  {
   "cell_type": "code",
   "execution_count": 3,
   "id": "d339be49-3117-42f4-9bfc-dab2e86e8fce",
   "metadata": {},
   "outputs": [
    {
     "name": "stdin",
     "output_type": "stream",
     "text": [
      "number :  12\n"
     ]
    },
    {
     "name": "stdout",
     "output_type": "stream",
     "text": [
      "abundant number\n"
     ]
    }
   ],
   "source": [
    "num = int(input('number : '))\n",
    "sm = 0\n",
    "\n",
    "for i in range(1, num//2+1):\n",
    "    if(num%i == 0):\n",
    "        sm+=i\n",
    "\n",
    "if(sm>num):\n",
    "    print('abundant number')\n",
    "else:\n",
    "    print('not a bundant number')"
   ]
  },
  {
   "cell_type": "code",
   "execution_count": null,
   "id": "fbd9eaf2-75c8-45d9-8927-5c022df871c6",
   "metadata": {},
   "outputs": [],
   "source": []
  }
 ],
 "metadata": {
  "kernelspec": {
   "display_name": "Python 3 (ipykernel)",
   "language": "python",
   "name": "python3"
  },
  "language_info": {
   "codemirror_mode": {
    "name": "ipython",
    "version": 3
   },
   "file_extension": ".py",
   "mimetype": "text/x-python",
   "name": "python",
   "nbconvert_exporter": "python",
   "pygments_lexer": "ipython3",
   "version": "3.13.3"
  }
 },
 "nbformat": 4,
 "nbformat_minor": 5
}
