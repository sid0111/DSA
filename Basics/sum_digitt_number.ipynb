{
 "cells": [
  {
   "cell_type": "code",
   "execution_count": 12,
   "id": "b364355c-6dd3-48ff-9f8b-d39c1ccd3fcf",
   "metadata": {},
   "outputs": [
    {
     "name": "stdin",
     "output_type": "stream",
     "text": [
      "enter your number :  123\n"
     ]
    },
    {
     "data": {
      "text/plain": [
       "6"
      ]
     },
     "execution_count": 12,
     "metadata": {},
     "output_type": "execute_result"
    }
   ],
   "source": [
    "#normal approach\n",
    "num = input('enter your number : ')\n",
    "s = 0\n",
    "\n",
    "for i in num:\n",
    "    s += int(i)\n",
    "\n",
    "s"
   ]
  },
  {
   "cell_type": "code",
   "execution_count": 14,
   "id": "facabd16-ae88-471e-8c9f-bb14e0ee1711",
   "metadata": {},
   "outputs": [
    {
     "name": "stdin",
     "output_type": "stream",
     "text": [
      "enter your number :  123\n"
     ]
    },
    {
     "data": {
      "text/plain": [
       "6"
      ]
     },
     "execution_count": 14,
     "metadata": {},
     "output_type": "execute_result"
    }
   ],
   "source": [
    "#using recursion\n",
    "num = int(input('enter your number : '))\n",
    "s = 0\n",
    "\n",
    "def sum_digit(num, s):\n",
    "    #base condition\n",
    "    if num==0:\n",
    "        return s\n",
    "\n",
    "    dig = num%10\n",
    "    s += dig\n",
    "    return sum_digit(num//10, s)\n",
    "\n",
    "sum_digit(num, s)"
   ]
  },
  {
   "cell_type": "code",
   "execution_count": 15,
   "id": "50fde9ba-c072-4478-98f0-06aae16d1d28",
   "metadata": {},
   "outputs": [
    {
     "name": "stdin",
     "output_type": "stream",
     "text": [
      "number :  123\n"
     ]
    },
    {
     "data": {
      "text/plain": [
       "6"
      ]
     },
     "execution_count": 15,
     "metadata": {},
     "output_type": "execute_result"
    }
   ],
   "source": [
    "#using ascii number we can use ord() function to find ascii number\n",
    "\n",
    "num = input('number : ')\n",
    "s = 0\n",
    "\n",
    "for i in range(len(num)):\n",
    "    s += ord(num[i]) - 48\n",
    "\n",
    "s"
   ]
  },
  {
   "cell_type": "code",
   "execution_count": 19,
   "id": "861ea18e-a100-4d4c-9182-2be0640160bf",
   "metadata": {},
   "outputs": [
    {
     "name": "stdin",
     "output_type": "stream",
     "text": [
      "number :  123\n"
     ]
    },
    {
     "name": "stdout",
     "output_type": "stream",
     "text": [
      "[1, 2, 3]\n"
     ]
    },
    {
     "ename": "TypeError",
     "evalue": "'int' object is not callable",
     "output_type": "error",
     "traceback": [
      "\u001b[31m---------------------------------------------------------------------------\u001b[39m",
      "\u001b[31mTypeError\u001b[39m                                 Traceback (most recent call last)",
      "\u001b[36mCell\u001b[39m\u001b[36m \u001b[39m\u001b[32mIn[19]\u001b[39m\u001b[32m, line 7\u001b[39m\n\u001b[32m      5\u001b[39m list_num = \u001b[38;5;28mlist\u001b[39m(\u001b[38;5;28mmap\u001b[39m(\u001b[38;5;28mint\u001b[39m, num.strip()))\n\u001b[32m      6\u001b[39m \u001b[38;5;28mprint\u001b[39m(list_num)\n\u001b[32m----> \u001b[39m\u001b[32m7\u001b[39m \u001b[38;5;28mprint\u001b[39m(\u001b[38;5;28;43msum\u001b[39;49m\u001b[43m(\u001b[49m\u001b[43mlist_num\u001b[49m\u001b[43m)\u001b[49m)\n",
      "\u001b[31mTypeError\u001b[39m: 'int' object is not callable"
     ]
    }
   ],
   "source": [
    "# using strip \n",
    "\n",
    "num = input('number : ')\n",
    "\n",
    "list_num = list(map(int, num.strip()))\n",
    "print(list_num)\n",
    "print(sum(list_num))"
   ]
  },
  {
   "cell_type": "code",
   "execution_count": null,
   "id": "0285cbcc-fda2-489b-8fea-f1c468cc8641",
   "metadata": {},
   "outputs": [],
   "source": []
  }
 ],
 "metadata": {
  "kernelspec": {
   "display_name": "Python 3 (ipykernel)",
   "language": "python",
   "name": "python3"
  },
  "language_info": {
   "codemirror_mode": {
    "name": "ipython",
    "version": 3
   },
   "file_extension": ".py",
   "mimetype": "text/x-python",
   "name": "python",
   "nbconvert_exporter": "python",
   "pygments_lexer": "ipython3",
   "version": "3.13.3"
  }
 },
 "nbformat": 4,
 "nbformat_minor": 5
}
