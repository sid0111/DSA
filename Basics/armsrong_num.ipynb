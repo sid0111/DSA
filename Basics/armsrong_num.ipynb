{
 "cells": [
  {
   "cell_type": "code",
   "execution_count": 2,
   "id": "050d4f2c-1bf3-4e77-9e6b-bd6eb254cffc",
   "metadata": {},
   "outputs": [
    {
     "name": "stdin",
     "output_type": "stream",
     "text": [
      "number :  154\n"
     ]
    },
    {
     "name": "stdout",
     "output_type": "stream",
     "text": [
      "no\n"
     ]
    }
   ],
   "source": [
    "num = int(input('number : '))\n",
    "copy  = num\n",
    "num_len = len(str(num))\n",
    "s = 0\n",
    "\n",
    "while num>0:\n",
    "    rem = num%10\n",
    "    s += rem**num_len\n",
    "    num//=10\n",
    "\n",
    "if(s == copy):\n",
    "    print('armstrong')\n",
    "else:\n",
    "    print('no')\n"
   ]
  },
  {
   "cell_type": "code",
   "execution_count": 13,
   "id": "7fb4d60b-8658-41d5-a63e-12d592c8e846",
   "metadata": {},
   "outputs": [
    {
     "name": "stdin",
     "output_type": "stream",
     "text": [
      "number :  9474\n"
     ]
    },
    {
     "name": "stdout",
     "output_type": "stream",
     "text": [
      "armstrong\n"
     ]
    }
   ],
   "source": [
    "num = int(input('number : '))\n",
    "copy = num\n",
    "num_len = len(str(num))\n",
    "\n",
    "def check_arms(num, s):\n",
    "    if num == 0:\n",
    "        return s\n",
    "    \n",
    "    rem = num%10\n",
    "    s += rem**num_len\n",
    "    num//=10\n",
    "\n",
    "    return check_arms(num, s)\n",
    "\n",
    "arms_sum = check_arms(num, 0)\n",
    "\n",
    "if(arms_sum == copy):\n",
    "    print('armstrong')\n",
    "else:\n",
    "    print('no')\n"
   ]
  },
  {
   "cell_type": "code",
   "execution_count": null,
   "id": "4dd953a1-17b4-4d11-9119-239815625228",
   "metadata": {},
   "outputs": [],
   "source": []
  }
 ],
 "metadata": {
  "kernelspec": {
   "display_name": "Python 3 (ipykernel)",
   "language": "python",
   "name": "python3"
  },
  "language_info": {
   "codemirror_mode": {
    "name": "ipython",
    "version": 3
   },
   "file_extension": ".py",
   "mimetype": "text/x-python",
   "name": "python",
   "nbconvert_exporter": "python",
   "pygments_lexer": "ipython3",
   "version": "3.13.3"
  }
 },
 "nbformat": 4,
 "nbformat_minor": 5
}
