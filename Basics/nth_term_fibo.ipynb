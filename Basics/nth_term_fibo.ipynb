{
 "cells": [
  {
   "cell_type": "code",
   "execution_count": 4,
   "id": "e8dabf06-f32d-462f-a64c-45c5835ad145",
   "metadata": {},
   "outputs": [
    {
     "name": "stdin",
     "output_type": "stream",
     "text": [
      "number :  8\n"
     ]
    },
    {
     "name": "stdout",
     "output_type": "stream",
     "text": [
      "13\n"
     ]
    }
   ],
   "source": [
    "num = int(input('number : '))\n",
    "save = 0\n",
    "fnum, snum, tnum = 0, 1, 0\n",
    "\n",
    "for i in range(2, num):\n",
    "    tnum = fnum + snum\n",
    "    fnum = snum\n",
    "    snum = tnum\n",
    "\n",
    "    save = tnum\n",
    "\n",
    "print(save)\n"
   ]
  },
  {
   "cell_type": "code",
   "execution_count": 10,
   "id": "d90ed393-7af3-4e12-96a9-d263f6cf07b2",
   "metadata": {},
   "outputs": [
    {
     "name": "stdin",
     "output_type": "stream",
     "text": [
      "number :  5\n"
     ]
    },
    {
     "data": {
      "text/plain": [
       "3"
      ]
     },
     "execution_count": 10,
     "metadata": {},
     "output_type": "execute_result"
    }
   ],
   "source": [
    "#recursion\n",
    "num = int(input('number : '))\n",
    "save = num\n",
    "\n",
    "def fibo_nthterm(n):\n",
    "    if n < 2:\n",
    "        return n\n",
    "\n",
    "    return fibo_nthterm(n-1) + fibo_nthterm(n-2)\n",
    "\n",
    "fibo_nthterm(num-1)"
   ]
  },
  {
   "cell_type": "code",
   "execution_count": null,
   "id": "ff3773f3-9f10-4179-8c3b-b0d295f723fb",
   "metadata": {},
   "outputs": [],
   "source": []
  }
 ],
 "metadata": {
  "kernelspec": {
   "display_name": "Python 3 (ipykernel)",
   "language": "python",
   "name": "python3"
  },
  "language_info": {
   "codemirror_mode": {
    "name": "ipython",
    "version": 3
   },
   "file_extension": ".py",
   "mimetype": "text/x-python",
   "name": "python",
   "nbconvert_exporter": "python",
   "pygments_lexer": "ipython3",
   "version": "3.13.3"
  }
 },
 "nbformat": 4,
 "nbformat_minor": 5
}
