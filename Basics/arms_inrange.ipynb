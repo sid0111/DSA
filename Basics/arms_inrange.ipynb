{
 "cells": [
  {
   "cell_type": "code",
   "execution_count": 1,
   "id": "e5f87fb8-dbb2-4dd4-9bfc-6b431bcb4078",
   "metadata": {},
   "outputs": [
    {
     "name": "stdin",
     "output_type": "stream",
     "text": [
      "number :  153\n"
     ]
    },
    {
     "name": "stdout",
     "output_type": "stream",
     "text": [
      "armstrong\n"
     ]
    }
   ],
   "source": [
    "num = int(input('number : '))\n",
    "copy  = num\n",
    "num_len = len(str(num))\n",
    "s = 0\n",
    "\n",
    "while num>0:\n",
    "    rem = num%10\n",
    "    s += rem**num_len\n",
    "    num//=10\n",
    "\n",
    "if(s == copy):\n",
    "    print('armstrong')\n",
    "else:\n",
    "    print('no')\n"
   ]
  },
  {
   "cell_type": "code",
   "execution_count": 3,
   "id": "48b14a9c-5782-4679-b035-eb0f5bb0af2d",
   "metadata": {},
   "outputs": [
    {
     "name": "stdin",
     "output_type": "stream",
     "text": [
      "start number :  100\n",
      "end number :  1000\n"
     ]
    },
    {
     "name": "stdout",
     "output_type": "stream",
     "text": [
      "153  \n",
      "370  \n",
      "371  \n",
      "407  \n"
     ]
    }
   ],
   "source": [
    "s = int(input('start number : '))\n",
    "e = int(input('end number : '))\n",
    "\n",
    "for i in range(s, e+1):\n",
    "    tmp = i\n",
    "    num_len = len(str(tmp))\n",
    "    sm = 0\n",
    "\n",
    "    while tmp>0:\n",
    "        rem = tmp%10\n",
    "        sm += rem**num_len\n",
    "        tmp//=10\n",
    "    \n",
    "    if(i == sm):\n",
    "        print(i,\" \")\n",
    " "
   ]
  },
  {
   "cell_type": "code",
   "execution_count": null,
   "id": "77c4b12f-3438-4694-9f53-11b340a695b2",
   "metadata": {},
   "outputs": [],
   "source": []
  }
 ],
 "metadata": {
  "kernelspec": {
   "display_name": "Python 3 (ipykernel)",
   "language": "python",
   "name": "python3"
  },
  "language_info": {
   "codemirror_mode": {
    "name": "ipython",
    "version": 3
   },
   "file_extension": ".py",
   "mimetype": "text/x-python",
   "name": "python",
   "nbconvert_exporter": "python",
   "pygments_lexer": "ipython3",
   "version": "3.13.3"
  }
 },
 "nbformat": 4,
 "nbformat_minor": 5
}
