{
 "cells": [
  {
   "cell_type": "markdown",
   "id": "a2036dc6-7cc8-46bb-9a24-af1d82cec6aa",
   "metadata": {},
   "source": [
    "# Strong Number\n",
    "### Number that is equal to the sum of the factorial of it's individual digits is known as Strong Number."
   ]
  },
  {
   "cell_type": "code",
   "execution_count": 8,
   "id": "0cd1b31c-5323-4a2a-8c76-0776bae45cbd",
   "metadata": {},
   "outputs": [
    {
     "name": "stdin",
     "output_type": "stream",
     "text": [
      "number :  40586\n"
     ]
    },
    {
     "name": "stdout",
     "output_type": "stream",
     "text": [
      "not strong\n"
     ]
    }
   ],
   "source": [
    "num = int(input('number : '))\n",
    "copy = num\n",
    "sm = 0\n",
    "\n",
    "while num>0:\n",
    "    rem = num%10\n",
    "    \n",
    "    fact = 1\n",
    "    for i in range(1,rem+1):\n",
    "        fact*=i\n",
    "    sm += fact\n",
    "\n",
    "    num//=10\n",
    "\n",
    "if(copy == sm):\n",
    "    print('number is strong')\n",
    "else:\n",
    "    print('not strong')\n",
    "\n",
    "#T. C. : O(n^2)"
   ]
  },
  {
   "cell_type": "code",
   "execution_count": 14,
   "id": "35045917-3072-467c-b0bc-f3f1dc9da1cd",
   "metadata": {},
   "outputs": [
    {
     "name": "stdin",
     "output_type": "stream",
     "text": [
      "number :  40585\n"
     ]
    },
    {
     "name": "stdout",
     "output_type": "stream",
     "text": [
      "strong\n"
     ]
    }
   ],
   "source": [
    "num = int(input('number : '))\n",
    "copy = num\n",
    "sm = 0\n",
    "\n",
    "f = 10*[0]\n",
    "f[0] = 1\n",
    "f[1] = 1\n",
    "\n",
    "for i in range(2, 10):\n",
    "    f[i] = f[i-1]*i\n",
    "\n",
    "while copy>0:\n",
    "    rem = copy%10\n",
    "    sm += f[rem]\n",
    "    copy//=10\n",
    "\n",
    "if(num == sm):\n",
    "    print('strong')\n",
    "else:\n",
    "    print('not strong')"
   ]
  },
  {
   "cell_type": "markdown",
   "id": "af975cf7-82a1-438a-ab0d-2902501169f0",
   "metadata": {},
   "source": [
    "## [1, 1, 2, 3, 6, 24, 120, 720]\n",
    "## [0, 1, 2, 3, 4, 5,   6,   6]\n",
    "\n",
    "##cross multiply and write answer on top"
   ]
  },
  {
   "cell_type": "code",
   "execution_count": null,
   "id": "39f12a9e-6be2-47d5-a6a7-97649df0ca9c",
   "metadata": {},
   "outputs": [],
   "source": []
  }
 ],
 "metadata": {
  "kernelspec": {
   "display_name": "Python 3 (ipykernel)",
   "language": "python",
   "name": "python3"
  },
  "language_info": {
   "codemirror_mode": {
    "name": "ipython",
    "version": 3
   },
   "file_extension": ".py",
   "mimetype": "text/x-python",
   "name": "python",
   "nbconvert_exporter": "python",
   "pygments_lexer": "ipython3",
   "version": "3.13.3"
  }
 },
 "nbformat": 4,
 "nbformat_minor": 5
}
