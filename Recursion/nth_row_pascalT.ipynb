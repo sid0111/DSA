{
 "cells": [
  {
   "cell_type": "code",
   "execution_count": 5,
   "id": "9cdde21d-d32f-4dc6-8ce8-38705f91e608",
   "metadata": {},
   "outputs": [
    {
     "name": "stdin",
     "output_type": "stream",
     "text": [
      "enter row :  3\n"
     ]
    },
    {
     "name": "stdout",
     "output_type": "stream",
     "text": [
      "1331"
     ]
    }
   ],
   "source": [
    "def pascal_traingle(n):\n",
    "    prev = 1\n",
    "    print(prev,end = \"\")\n",
    "\n",
    "    for i in range(1, n+1):\n",
    "        cur = (prev * (n-i+1))//i #formula\n",
    "        print(cur, end=\"\")\n",
    "        prev = cur\n",
    "\n",
    "n = int(input('enter row : '))\n",
    "pascal_traingle(n)"
   ]
  },
  {
   "cell_type": "markdown",
   "id": "f5d37439-39d5-46af-9ba3-37bc5d3418dc",
   "metadata": {},
   "source": [
    "### Pascal traingle nth row main formula : (prev*(n-i+1))//i"
   ]
  },
  {
   "cell_type": "code",
   "execution_count": null,
   "id": "5a3e7247-8e97-451e-883f-9525c6ff3c65",
   "metadata": {},
   "outputs": [],
   "source": []
  }
 ],
 "metadata": {
  "kernelspec": {
   "display_name": "Python 3 (ipykernel)",
   "language": "python",
   "name": "python3"
  },
  "language_info": {
   "codemirror_mode": {
    "name": "ipython",
    "version": 3
   },
   "file_extension": ".py",
   "mimetype": "text/x-python",
   "name": "python",
   "nbconvert_exporter": "python",
   "pygments_lexer": "ipython3",
   "version": "3.10.9"
  }
 },
 "nbformat": 4,
 "nbformat_minor": 5
}
