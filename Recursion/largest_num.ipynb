{
 "cells": [
  {
   "cell_type": "code",
   "execution_count": 2,
   "id": "145c4254-f2d9-4d3c-9951-44de03cb03e5",
   "metadata": {},
   "outputs": [
    {
     "name": "stdin",
     "output_type": "stream",
     "text": [
      "enter array size :  7\n",
      "0 :  1\n",
      "1 :  4\n",
      "2 :  3\n",
      "3 :  -5\n",
      "4 :  -4\n",
      "5 :  8\n",
      "6 :  6\n"
     ]
    },
    {
     "data": {
      "text/plain": [
       "8"
      ]
     },
     "execution_count": 2,
     "metadata": {},
     "output_type": "execute_result"
    }
   ],
   "source": [
    "n = int(input('enter array size : '))\n",
    "list_num = []\n",
    "\n",
    "for i in range(n):\n",
    "    list_num.append(int(input(f'{i} : ')))\n",
    "\n",
    "max_ele = -111111111111111111111111111111111111111111\n",
    "for i in list_num:\n",
    "    if i > max_ele:\n",
    "        max_ele = i\n",
    "        \n",
    "max_ele"
   ]
  },
  {
   "cell_type": "code",
   "execution_count": 5,
   "id": "d3ec6dce-3ce1-404b-9b27-e3e396100491",
   "metadata": {},
   "outputs": [
    {
     "name": "stdin",
     "output_type": "stream",
     "text": [
      "enter array size :  5\n",
      "0 :  96\n",
      "1 :  205\n",
      "2 :  211\n",
      "3 :  4532\n",
      "4 :  123456789\n"
     ]
    },
    {
     "data": {
      "text/plain": [
       "123456789"
      ]
     },
     "execution_count": 5,
     "metadata": {},
     "output_type": "execute_result"
    }
   ],
   "source": [
    "def findMaxRec(A, n):\n",
    "    if n == 1:\n",
    "        return A[0]\n",
    "\n",
    "    return max(A[n-1], findMaxRec(A, n-1))\n",
    "\n",
    "n = int(input('enter array size : '))\n",
    "list_num = []\n",
    "\n",
    "for i in range(n):\n",
    "    list_num.append(int(input(f'{i} : ')))\n",
    "\n",
    "max_ele = findMaxRec(list_num, n)\n",
    "max_ele"
   ]
  },
  {
   "cell_type": "code",
   "execution_count": null,
   "id": "73d7a4f1-262a-485c-b004-966713ceb4fb",
   "metadata": {},
   "outputs": [],
   "source": []
  }
 ],
 "metadata": {
  "kernelspec": {
   "display_name": "Python 3 (ipykernel)",
   "language": "python",
   "name": "python3"
  },
  "language_info": {
   "codemirror_mode": {
    "name": "ipython",
    "version": 3
   },
   "file_extension": ".py",
   "mimetype": "text/x-python",
   "name": "python",
   "nbconvert_exporter": "python",
   "pygments_lexer": "ipython3",
   "version": "3.10.9"
  }
 },
 "nbformat": 4,
 "nbformat_minor": 5
}
