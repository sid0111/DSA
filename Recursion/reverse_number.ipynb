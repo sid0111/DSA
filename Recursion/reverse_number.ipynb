{
 "cells": [
  {
   "cell_type": "code",
   "execution_count": 3,
   "id": "3c2b4bfc-1f4d-4249-a828-8cd78f20580d",
   "metadata": {},
   "outputs": [
    {
     "name": "stdin",
     "output_type": "stream",
     "text": [
      "enter number :  123\n"
     ]
    },
    {
     "name": "stdout",
     "output_type": "stream",
     "text": [
      "321\n"
     ]
    }
   ],
   "source": [
    "#used array\n",
    "def rev_num(arr, l, n = 0):\n",
    "    if l == n:\n",
    "        return arr\n",
    "\n",
    "    arr[n], arr[-1 * (n+1)] = arr[-1 * (n+1)], arr[n]\n",
    "\n",
    "    return rev_num(arr, l, n+1)\n",
    "    \n",
    "n = input('enter number : ')\n",
    "arr = list(n)\n",
    "reverse = rev_num(arr, len(arr)//2)\n",
    "s = ''\n",
    "print(s.join(reverse))"
   ]
  },
  {
   "cell_type": "code",
   "execution_count": null,
   "id": "b3182ed2-5073-4cac-942a-3a92ca827229",
   "metadata": {},
   "outputs": [],
   "source": []
  }
 ],
 "metadata": {
  "kernelspec": {
   "display_name": "Python 3 (ipykernel)",
   "language": "python",
   "name": "python3"
  },
  "language_info": {
   "codemirror_mode": {
    "name": "ipython",
    "version": 3
   },
   "file_extension": ".py",
   "mimetype": "text/x-python",
   "name": "python",
   "nbconvert_exporter": "python",
   "pygments_lexer": "ipython3",
   "version": "3.10.9"
  }
 },
 "nbformat": 4,
 "nbformat_minor": 5
}
