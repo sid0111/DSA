{
 "cells": [
  {
   "cell_type": "code",
   "execution_count": 3,
   "id": "16af9bf8-4b7b-4f88-b33d-c285185e5261",
   "metadata": {},
   "outputs": [
    {
     "name": "stdin",
     "output_type": "stream",
     "text": [
      "enter array size :  7\n",
      "0 :  1\n",
      "1 :  4\n",
      "2 :  45\n",
      "3 :  -50\n",
      "4 :  6\n",
      "5 :  10\n",
      "6 :  2\n"
     ]
    },
    {
     "data": {
      "text/plain": [
       "-50"
      ]
     },
     "execution_count": 3,
     "metadata": {},
     "output_type": "execute_result"
    }
   ],
   "source": [
    "def findMinRec(A, n):\n",
    "    if n == 1:\n",
    "        return A[0]\n",
    "\n",
    "    return min(A[n-1], findMinRec(A, n-1))\n",
    "\n",
    "n = int(input('enter array size : '))\n",
    "list_num = []\n",
    "\n",
    "for i in range(n):\n",
    "    list_num.append(int(input(f'{i} : ')))\n",
    "\n",
    "min_ele = findMinRec(list_num, n)\n",
    "min_ele"
   ]
  },
  {
   "cell_type": "code",
   "execution_count": null,
   "id": "573fca02-f998-43bc-ae18-05b41b7a6860",
   "metadata": {},
   "outputs": [],
   "source": []
  }
 ],
 "metadata": {
  "kernelspec": {
   "display_name": "Python 3 (ipykernel)",
   "language": "python",
   "name": "python3"
  },
  "language_info": {
   "codemirror_mode": {
    "name": "ipython",
    "version": 3
   },
   "file_extension": ".py",
   "mimetype": "text/x-python",
   "name": "python",
   "nbconvert_exporter": "python",
   "pygments_lexer": "ipython3",
   "version": "3.10.9"
  }
 },
 "nbformat": 4,
 "nbformat_minor": 5
}
