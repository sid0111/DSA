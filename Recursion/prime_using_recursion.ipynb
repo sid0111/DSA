{
 "cells": [
  {
   "cell_type": "code",
   "execution_count": 10,
   "id": "ad190985-bd95-4137-a8ab-60bf1407b67a",
   "metadata": {},
   "outputs": [
    {
     "name": "stdin",
     "output_type": "stream",
     "text": [
      "enter the number :  971\n"
     ]
    },
    {
     "name": "stdout",
     "output_type": "stream",
     "text": [
      "971 is prime\n"
     ]
    }
   ],
   "source": [
    "num = int(input('enter the number : '))\n",
    "\n",
    "def is_prime(num, i):\n",
    "    if num == i:\n",
    "        return True\n",
    "\n",
    "    if num % i == 0:\n",
    "        return False\n",
    "\n",
    "    return is_prime(num, i+1)\n",
    "\n",
    "if is_prime(num, 2):\n",
    "    print(f'{num} is prime')\n",
    "else:\n",
    "    print(f'{num} is not prime')"
   ]
  },
  {
   "cell_type": "code",
   "execution_count": null,
   "id": "dc80a660-a200-4389-80e6-e85778c74e4d",
   "metadata": {},
   "outputs": [],
   "source": []
  }
 ],
 "metadata": {
  "kernelspec": {
   "display_name": "Python 3 (ipykernel)",
   "language": "python",
   "name": "python3"
  },
  "language_info": {
   "codemirror_mode": {
    "name": "ipython",
    "version": 3
   },
   "file_extension": ".py",
   "mimetype": "text/x-python",
   "name": "python",
   "nbconvert_exporter": "python",
   "pygments_lexer": "ipython3",
   "version": "3.10.9"
  }
 },
 "nbformat": 4,
 "nbformat_minor": 5
}
