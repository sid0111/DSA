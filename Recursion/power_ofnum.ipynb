{
 "cells": [
  {
   "cell_type": "code",
   "execution_count": 3,
   "id": "11df4d9e-257d-4dc6-86b0-0d058e517a31",
   "metadata": {},
   "outputs": [
    {
     "name": "stdin",
     "output_type": "stream",
     "text": [
      "enter base value :  3\n",
      "enter power value :  2\n"
     ]
    },
    {
     "name": "stdout",
     "output_type": "stream",
     "text": [
      "Value :  9\n"
     ]
    }
   ],
   "source": [
    "base = int(input('enter base value : '))\n",
    "power = int(input('enter power value : '))\n",
    "\n",
    "def num_pow(base, power):\n",
    "    if power < 1:\n",
    "        return 1\n",
    "\n",
    "    return base * num_pow(base, power-1)\n",
    "\n",
    "print('Value : ',num_pow(base, power))"
   ]
  },
  {
   "cell_type": "code",
   "execution_count": null,
   "id": "0d7d9bd7-bb6c-48d8-bc31-dbec544d15db",
   "metadata": {},
   "outputs": [],
   "source": []
  }
 ],
 "metadata": {
  "kernelspec": {
   "display_name": "Python 3 (ipykernel)",
   "language": "python",
   "name": "python3"
  },
  "language_info": {
   "codemirror_mode": {
    "name": "ipython",
    "version": 3
   },
   "file_extension": ".py",
   "mimetype": "text/x-python",
   "name": "python",
   "nbconvert_exporter": "python",
   "pygments_lexer": "ipython3",
   "version": "3.10.9"
  }
 },
 "nbformat": 4,
 "nbformat_minor": 5
}
