{
 "cells": [
  {
   "cell_type": "code",
   "execution_count": 6,
   "id": "1a5ec2fd-5b1a-47dc-8829-da8948a70678",
   "metadata": {},
   "outputs": [
    {
     "name": "stdin",
     "output_type": "stream",
     "text": [
      "num1 :  23\n",
      "num2 :  69\n"
     ]
    },
    {
     "name": "stdout",
     "output_type": "stream",
     "text": [
      "hcf :  23\n"
     ]
    }
   ],
   "source": [
    "def hcf(n1, n2):\n",
    "    if max(n1,n2) % min(n1,n2) == 0:\n",
    "        return min(n1,n2)\n",
    "\n",
    "    for i in range(min(n1,n2), 0 , -1):\n",
    "        if n1%i==0 and n2%i==0:\n",
    "            return i\n",
    "\n",
    "n1 = int(input('num1 : '))\n",
    "n2 = int(input('num2 : '))\n",
    "\n",
    "print('hcf : ',hcf(n1, n2))"
   ]
  },
  {
   "cell_type": "code",
   "execution_count": 7,
   "id": "37191891-1801-4c57-8af8-3dba47273901",
   "metadata": {},
   "outputs": [
    {
     "name": "stdin",
     "output_type": "stream",
     "text": [
      "num1 :  23\n",
      "num2 :  69\n"
     ]
    },
    {
     "name": "stdout",
     "output_type": "stream",
     "text": [
      "hcf :  23\n"
     ]
    }
   ],
   "source": [
    "def hcf(n1, n2):\n",
    "    if n2==0:\n",
    "        return n1\n",
    "\n",
    "    return hcf(n2, n1%n2)\n",
    "\n",
    "n1 = int(input('num1 : '))\n",
    "n2 = int(input('num2 : '))\n",
    "\n",
    "print('hcf : ',hcf(n1, n2))"
   ]
  },
  {
   "cell_type": "code",
   "execution_count": null,
   "id": "0810cff2-b777-4c87-9101-4a3477efc931",
   "metadata": {},
   "outputs": [],
   "source": []
  }
 ],
 "metadata": {
  "kernelspec": {
   "display_name": "Python 3 (ipykernel)",
   "language": "python",
   "name": "python3"
  },
  "language_info": {
   "codemirror_mode": {
    "name": "ipython",
    "version": 3
   },
   "file_extension": ".py",
   "mimetype": "text/x-python",
   "name": "python",
   "nbconvert_exporter": "python",
   "pygments_lexer": "ipython3",
   "version": "3.10.9"
  }
 },
 "nbformat": 4,
 "nbformat_minor": 5
}
