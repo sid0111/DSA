{
 "cells": [
  {
   "cell_type": "code",
   "execution_count": 1,
   "id": "3b97581b-6d05-43bf-a05f-e96070b8c3fb",
   "metadata": {},
   "outputs": [
    {
     "name": "stdin",
     "output_type": "stream",
     "text": [
      "enter any word :  sid\n"
     ]
    },
    {
     "name": "stdout",
     "output_type": "stream",
     "text": [
      "length of the string is :  3\n"
     ]
    }
   ],
   "source": [
    "l = 0\n",
    "def len_str(s):\n",
    "    if s == '':\n",
    "        return 0\n",
    "\n",
    "    return  1 + len_str(s[1:])\n",
    "\n",
    "s = input('enter any word : ')\n",
    "print('length of the string is : ',len_str(s))"
   ]
  },
  {
   "cell_type": "code",
   "execution_count": 3,
   "id": "3a093935-3a7e-49ad-8a14-4d39b11842ba",
   "metadata": {},
   "outputs": [
    {
     "name": "stdin",
     "output_type": "stream",
     "text": [
      "enter any word :  naik\n"
     ]
    },
    {
     "name": "stdout",
     "output_type": "stream",
     "text": [
      "length of the string is :  4\n"
     ]
    }
   ],
   "source": [
    "def len_str(s):\n",
    "    l = 0\n",
    "    for i in s:\n",
    "        l+=1\n",
    "        \n",
    "    return l\n",
    "\n",
    "s = input('enter any word : ')\n",
    "print('length of the string is : ',len_str(s))"
   ]
  },
  {
   "cell_type": "code",
   "execution_count": null,
   "id": "5e1fff43-3632-4335-b2d5-1a610d892b26",
   "metadata": {},
   "outputs": [],
   "source": []
  }
 ],
 "metadata": {
  "kernelspec": {
   "display_name": "Python 3 (ipykernel)",
   "language": "python",
   "name": "python3"
  },
  "language_info": {
   "codemirror_mode": {
    "name": "ipython",
    "version": 3
   },
   "file_extension": ".py",
   "mimetype": "text/x-python",
   "name": "python",
   "nbconvert_exporter": "python",
   "pygments_lexer": "ipython3",
   "version": "3.10.9"
  }
 },
 "nbformat": 4,
 "nbformat_minor": 5
}
