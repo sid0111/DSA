{
 "cells": [
  {
   "cell_type": "code",
   "execution_count": null,
   "id": "bf1f06c1-752e-44a8-847e-98a8840266d7",
   "metadata": {},
   "outputs": [],
   "source": [
    "def hcf(a, b):\n",
    "    if \n",
    "\n",
    "def lcm(a, b):\n",
    "    return  (a*b)// hcf(a,b)\n",
    "\n",
    "n1 = int(input('number 1 : '))\n",
    "n2 = int(input('number 2 : '))\n",
    "\n",
    "print(f'LCM of {n1} and {n2} is : ',lcm(n1,n2))"
   ]
  }
 ],
 "metadata": {
  "kernelspec": {
   "display_name": "Python 3 (ipykernel)",
   "language": "python",
   "name": "python3"
  },
  "language_info": {
   "codemirror_mode": {
    "name": "ipython",
    "version": 3
   },
   "file_extension": ".py",
   "mimetype": "text/x-python",
   "name": "python",
   "nbconvert_exporter": "python",
   "pygments_lexer": "ipython3",
   "version": "3.10.9"
  }
 },
 "nbformat": 4,
 "nbformat_minor": 5
}
